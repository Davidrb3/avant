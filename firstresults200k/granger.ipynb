{
 "cells": [
  {
   "cell_type": "markdown",
   "id": "950e59da-08ec-43d7-9c8d-3f4b62b3b3f6",
   "metadata": {},
   "source": [
    "# Granger causality of widely-read books"
   ]
  },
  {
   "cell_type": "code",
   "execution_count": 1,
   "id": "261ed6b5-da3f-4cba-8fb5-1e070cbdb75b",
   "metadata": {},
   "outputs": [],
   "source": [
    "import pandas as pd\n",
    "import numpy as np\n",
    "from scipy.spatial.distance import cosine\n",
    "from scipy.stats import pearsonr, spearmanr\n",
    "from statistics import mean, stdev\n",
    "from math import sqrt"
   ]
  },
  {
   "cell_type": "code",
   "execution_count": 2,
   "id": "817363f3-d708-4ab0-b461-c0290665ee7e",
   "metadata": {},
   "outputs": [],
   "source": [
    "recep = pd.read_csv('bookswithreception.tsv', sep = '\\t')"
   ]
  },
  {
   "cell_type": "code",
   "execution_count": 3,
   "id": "2065f941-d3b2-42ba-91d3-f1fc246356cd",
   "metadata": {},
   "outputs": [],
   "source": [
    "recep['quartile'] = pd.qcut(recep.review_wordcount, 4, labels = False)"
   ]
  },
  {
   "cell_type": "code",
   "execution_count": 4,
   "id": "c8105d66-c3cf-400c-8f37-d27370713ce8",
   "metadata": {},
   "outputs": [
    {
     "data": {
      "text/html": [
       "<div>\n",
       "<style scoped>\n",
       "    .dataframe tbody tr th:only-of-type {\n",
       "        vertical-align: middle;\n",
       "    }\n",
       "\n",
       "    .dataframe tbody tr th {\n",
       "        vertical-align: top;\n",
       "    }\n",
       "\n",
       "    .dataframe thead th {\n",
       "        text-align: right;\n",
       "    }\n",
       "</style>\n",
       "<table border=\"1\" class=\"dataframe\">\n",
       "  <thead>\n",
       "    <tr style=\"text-align: right;\">\n",
       "      <th></th>\n",
       "      <th>docid</th>\n",
       "      <th>tm_author</th>\n",
       "      <th>tm_title</th>\n",
       "      <th>tm_year</th>\n",
       "      <th>review_year</th>\n",
       "      <th>rownum</th>\n",
       "      <th>review_title</th>\n",
       "      <th>prize_author</th>\n",
       "      <th>bestseller_year</th>\n",
       "      <th>is_bestseller</th>\n",
       "      <th>obscure</th>\n",
       "      <th>firstpub</th>\n",
       "      <th>birthyear</th>\n",
       "      <th>us_national</th>\n",
       "      <th>lowest_date</th>\n",
       "      <th>standard_auth</th>\n",
       "      <th>review_wordcount</th>\n",
       "      <th>review_sentiment</th>\n",
       "      <th>quartile</th>\n",
       "    </tr>\n",
       "  </thead>\n",
       "  <tbody>\n",
       "    <tr>\n",
       "      <th>0</th>\n",
       "      <td>uc1.b3347126</td>\n",
       "      <td>shaw, irwin</td>\n",
       "      <td>welcome to the city, and other</td>\n",
       "      <td>1942.0</td>\n",
       "      <td>1942.0</td>\n",
       "      <td>3289.0</td>\n",
       "      <td>welcome to the city, and other stories.</td>\n",
       "      <td>False</td>\n",
       "      <td>NaN</td>\n",
       "      <td>False</td>\n",
       "      <td>False</td>\n",
       "      <td>1942</td>\n",
       "      <td>1913.0</td>\n",
       "      <td>True</td>\n",
       "      <td>1942</td>\n",
       "      <td>shaw, irwin</td>\n",
       "      <td>2400.0</td>\n",
       "      <td>3.715599</td>\n",
       "      <td>2</td>\n",
       "    </tr>\n",
       "    <tr>\n",
       "      <th>1</th>\n",
       "      <td>uc1.$b322688</td>\n",
       "      <td>bennett, arnold</td>\n",
       "      <td>woman who stole everything</td>\n",
       "      <td>1927.0</td>\n",
       "      <td>1927.0</td>\n",
       "      <td>4140.0</td>\n",
       "      <td>woman who stole everything, and other stories.</td>\n",
       "      <td>False</td>\n",
       "      <td>NaN</td>\n",
       "      <td>False</td>\n",
       "      <td>False</td>\n",
       "      <td>1927</td>\n",
       "      <td>1867.0</td>\n",
       "      <td>False</td>\n",
       "      <td>1927</td>\n",
       "      <td>bennett, arnold</td>\n",
       "      <td>5010.0</td>\n",
       "      <td>3.500459</td>\n",
       "      <td>3</td>\n",
       "    </tr>\n",
       "    <tr>\n",
       "      <th>2</th>\n",
       "      <td>uc1.b3407035</td>\n",
       "      <td>lippincott, joseph wharton</td>\n",
       "      <td>wilderness champion; the story</td>\n",
       "      <td>1944.0</td>\n",
       "      <td>1944.0</td>\n",
       "      <td>3481.0</td>\n",
       "      <td>wilderness champion; the story of a great houn...</td>\n",
       "      <td>False</td>\n",
       "      <td>NaN</td>\n",
       "      <td>False</td>\n",
       "      <td>False</td>\n",
       "      <td>1944</td>\n",
       "      <td>1887.0</td>\n",
       "      <td>True</td>\n",
       "      <td>1944</td>\n",
       "      <td>lippincott, joseph w</td>\n",
       "      <td>600.0</td>\n",
       "      <td>3.759941</td>\n",
       "      <td>0</td>\n",
       "    </tr>\n",
       "    <tr>\n",
       "      <th>3</th>\n",
       "      <td>uc1.$b116192</td>\n",
       "      <td>becker, may lamberton</td>\n",
       "      <td>golden tales of the southwest;</td>\n",
       "      <td>1939.0</td>\n",
       "      <td>1939.0</td>\n",
       "      <td>4283.0</td>\n",
       "      <td>golden tales of the southwest; selected with a...</td>\n",
       "      <td>False</td>\n",
       "      <td>NaN</td>\n",
       "      <td>False</td>\n",
       "      <td>False</td>\n",
       "      <td>1939</td>\n",
       "      <td>1873.0</td>\n",
       "      <td>True</td>\n",
       "      <td>1939</td>\n",
       "      <td>becker, may lamberto</td>\n",
       "      <td>930.0</td>\n",
       "      <td>3.706520</td>\n",
       "      <td>1</td>\n",
       "    </tr>\n",
       "    <tr>\n",
       "      <th>4</th>\n",
       "      <td>mdp.39015059415383</td>\n",
       "      <td>miller, alice duer, mrs</td>\n",
       "      <td>instruments</td>\n",
       "      <td>1926.0</td>\n",
       "      <td>1926.0</td>\n",
       "      <td>2405.0</td>\n",
       "      <td>instruments of darkness, and other stories.</td>\n",
       "      <td>False</td>\n",
       "      <td>NaN</td>\n",
       "      <td>False</td>\n",
       "      <td>False</td>\n",
       "      <td>1926</td>\n",
       "      <td>1874.0</td>\n",
       "      <td>True</td>\n",
       "      <td>1926</td>\n",
       "      <td>miller, alice duer,</td>\n",
       "      <td>3600.0</td>\n",
       "      <td>3.613030</td>\n",
       "      <td>2</td>\n",
       "    </tr>\n",
       "  </tbody>\n",
       "</table>\n",
       "</div>"
      ],
      "text/plain": [
       "                docid                   tm_author  \\\n",
       "0        uc1.b3347126                 shaw, irwin   \n",
       "1        uc1.$b322688             bennett, arnold   \n",
       "2        uc1.b3407035  lippincott, joseph wharton   \n",
       "3        uc1.$b116192       becker, may lamberton   \n",
       "4  mdp.39015059415383     miller, alice duer, mrs   \n",
       "\n",
       "                         tm_title  tm_year  review_year  rownum  \\\n",
       "0  welcome to the city, and other   1942.0       1942.0  3289.0   \n",
       "1      woman who stole everything   1927.0       1927.0  4140.0   \n",
       "2  wilderness champion; the story   1944.0       1944.0  3481.0   \n",
       "3  golden tales of the southwest;   1939.0       1939.0  4283.0   \n",
       "4                    instruments    1926.0       1926.0  2405.0   \n",
       "\n",
       "                                        review_title  prize_author  \\\n",
       "0            welcome to the city, and other stories.         False   \n",
       "1     woman who stole everything, and other stories.         False   \n",
       "2  wilderness champion; the story of a great houn...         False   \n",
       "3  golden tales of the southwest; selected with a...         False   \n",
       "4        instruments of darkness, and other stories.         False   \n",
       "\n",
       "   bestseller_year  is_bestseller  obscure  firstpub  birthyear  us_national  \\\n",
       "0              NaN          False    False      1942     1913.0         True   \n",
       "1              NaN          False    False      1927     1867.0        False   \n",
       "2              NaN          False    False      1944     1887.0         True   \n",
       "3              NaN          False    False      1939     1873.0         True   \n",
       "4              NaN          False    False      1926     1874.0         True   \n",
       "\n",
       "   lowest_date         standard_auth  review_wordcount  review_sentiment  \\\n",
       "0         1942           shaw, irwin            2400.0          3.715599   \n",
       "1         1927       bennett, arnold            5010.0          3.500459   \n",
       "2         1944  lippincott, joseph w             600.0          3.759941   \n",
       "3         1939  becker, may lamberto             930.0          3.706520   \n",
       "4         1926  miller, alice duer,             3600.0          3.613030   \n",
       "\n",
       "   quartile  \n",
       "0         2  \n",
       "1         3  \n",
       "2         0  \n",
       "3         1  \n",
       "4         2  "
      ]
     },
     "execution_count": 4,
     "metadata": {},
     "output_type": "execute_result"
    }
   ],
   "source": [
    "recep.head()"
   ]
  },
  {
   "cell_type": "code",
   "execution_count": 5,
   "id": "4eef7de4-1b27-41ad-980e-7be0af4bb95d",
   "metadata": {},
   "outputs": [],
   "source": [
    "widely = recep.loc[(recep.quartile == 3) | (recep.is_bestseller == True) | (recep.prize_author == True), 'docid']"
   ]
  },
  {
   "cell_type": "code",
   "execution_count": 6,
   "id": "28f84c81-5218-4edb-b527-bbfb3476c15e",
   "metadata": {},
   "outputs": [
    {
     "data": {
      "text/plain": [
       "1608"
      ]
     },
     "execution_count": 6,
     "metadata": {},
     "output_type": "execute_result"
    }
   ],
   "source": [
    "len(widely)"
   ]
  },
  {
   "cell_type": "code",
   "execution_count": 25,
   "id": "5f20a651-ccbc-4c34-b29f-dbbf507ac0be",
   "metadata": {},
   "outputs": [],
   "source": [
    "data = pd.read_csv('topicdatastandardauths.tsv', sep = '\\t', low_memory = False)"
   ]
  },
  {
   "cell_type": "code",
   "execution_count": 26,
   "id": "e1e945d9-df69-4a17-b917-3e00e80918ee",
   "metadata": {},
   "outputs": [
    {
     "data": {
      "text/plain": [
       "(1608, 209)"
      ]
     },
     "execution_count": 26,
     "metadata": {},
     "output_type": "execute_result"
    }
   ],
   "source": [
    "widedata = data.loc[data.docid.isin(widely), : ]\n",
    "widedata.shape"
   ]
  },
  {
   "cell_type": "code",
   "execution_count": 27,
   "id": "79b5b042-abfb-4ae6-86b5-851fb70053f9",
   "metadata": {},
   "outputs": [
    {
     "data": {
      "text/plain": [
       "(15722, 209)"
      ]
     },
     "execution_count": 27,
     "metadata": {},
     "output_type": "execute_result"
    }
   ],
   "source": [
    "otherdata = data.loc[(~data.docid.isin(widely)) & (data.firstpub < 1971) & (data.firstpub > 1900), : ]\n",
    "otherdata.shape"
   ]
  },
  {
   "cell_type": "code",
   "execution_count": 28,
   "id": "c688d498-2843-4a8e-a693-26406bac9a1b",
   "metadata": {},
   "outputs": [
    {
     "data": {
      "text/plain": [
       "0"
      ]
     },
     "execution_count": 28,
     "metadata": {},
     "output_type": "execute_result"
    }
   ],
   "source": [
    "len(set(widedata.docid).intersection(set(otherdata.docid)))"
   ]
  },
  {
   "cell_type": "code",
   "execution_count": 29,
   "id": "3f6fc9d4-cc01-4b26-a919-72fab14c9506",
   "metadata": {},
   "outputs": [],
   "source": [
    "keepcols = ['t' + str(x) for x in range(200)]\n",
    "keepcols.append('firstpub')"
   ]
  },
  {
   "cell_type": "code",
   "execution_count": 30,
   "id": "41447e88-3799-471c-af28-7fdf50d31d82",
   "metadata": {},
   "outputs": [
    {
     "data": {
      "text/plain": [
       "(1608, 201)"
      ]
     },
     "execution_count": 30,
     "metadata": {},
     "output_type": "execute_result"
    }
   ],
   "source": [
    "widedata = widedata[keepcols]\n",
    "widedata.shape"
   ]
  },
  {
   "cell_type": "code",
   "execution_count": 31,
   "id": "cd35f560-c096-4ea8-abff-b3e92cc2a17c",
   "metadata": {},
   "outputs": [
    {
     "data": {
      "text/plain": [
       "(15722, 201)"
      ]
     },
     "execution_count": 31,
     "metadata": {},
     "output_type": "execute_result"
    }
   ],
   "source": [
    "otherdata = otherdata[keepcols]\n",
    "otherdata.shape"
   ]
  },
  {
   "cell_type": "code",
   "execution_count": 32,
   "id": "bd21da0d-cc27-415a-869d-58fb4469edfd",
   "metadata": {},
   "outputs": [
    {
     "data": {
      "text/html": [
       "<div>\n",
       "<style scoped>\n",
       "    .dataframe tbody tr th:only-of-type {\n",
       "        vertical-align: middle;\n",
       "    }\n",
       "\n",
       "    .dataframe tbody tr th {\n",
       "        vertical-align: top;\n",
       "    }\n",
       "\n",
       "    .dataframe thead th {\n",
       "        text-align: right;\n",
       "    }\n",
       "</style>\n",
       "<table border=\"1\" class=\"dataframe\">\n",
       "  <thead>\n",
       "    <tr style=\"text-align: right;\">\n",
       "      <th></th>\n",
       "      <th>t0</th>\n",
       "      <th>t1</th>\n",
       "      <th>t2</th>\n",
       "      <th>t3</th>\n",
       "      <th>t4</th>\n",
       "      <th>t5</th>\n",
       "      <th>t6</th>\n",
       "      <th>t7</th>\n",
       "      <th>t8</th>\n",
       "      <th>t9</th>\n",
       "      <th>...</th>\n",
       "      <th>t190</th>\n",
       "      <th>t191</th>\n",
       "      <th>t192</th>\n",
       "      <th>t193</th>\n",
       "      <th>t194</th>\n",
       "      <th>t195</th>\n",
       "      <th>t196</th>\n",
       "      <th>t197</th>\n",
       "      <th>t198</th>\n",
       "      <th>t199</th>\n",
       "    </tr>\n",
       "    <tr>\n",
       "      <th>firstpub</th>\n",
       "      <th></th>\n",
       "      <th></th>\n",
       "      <th></th>\n",
       "      <th></th>\n",
       "      <th></th>\n",
       "      <th></th>\n",
       "      <th></th>\n",
       "      <th></th>\n",
       "      <th></th>\n",
       "      <th></th>\n",
       "      <th></th>\n",
       "      <th></th>\n",
       "      <th></th>\n",
       "      <th></th>\n",
       "      <th></th>\n",
       "      <th></th>\n",
       "      <th></th>\n",
       "      <th></th>\n",
       "      <th></th>\n",
       "      <th></th>\n",
       "      <th></th>\n",
       "    </tr>\n",
       "  </thead>\n",
       "  <tbody>\n",
       "    <tr>\n",
       "      <th>1916</th>\n",
       "      <td>0.001421</td>\n",
       "      <td>0.005393</td>\n",
       "      <td>0.003457</td>\n",
       "      <td>0.000032</td>\n",
       "      <td>0.007477</td>\n",
       "      <td>0.004149</td>\n",
       "      <td>0.009534</td>\n",
       "      <td>0.004477</td>\n",
       "      <td>0.000739</td>\n",
       "      <td>0.008114</td>\n",
       "      <td>...</td>\n",
       "      <td>0.002799</td>\n",
       "      <td>0.006314</td>\n",
       "      <td>0.000857</td>\n",
       "      <td>0.010612</td>\n",
       "      <td>0.026162</td>\n",
       "      <td>0.001638</td>\n",
       "      <td>0.000339</td>\n",
       "      <td>0.000617</td>\n",
       "      <td>0.000123</td>\n",
       "      <td>0.000095</td>\n",
       "    </tr>\n",
       "    <tr>\n",
       "      <th>1917</th>\n",
       "      <td>0.005756</td>\n",
       "      <td>0.007032</td>\n",
       "      <td>0.003457</td>\n",
       "      <td>0.000036</td>\n",
       "      <td>0.008851</td>\n",
       "      <td>0.006280</td>\n",
       "      <td>0.001599</td>\n",
       "      <td>0.006263</td>\n",
       "      <td>0.000791</td>\n",
       "      <td>0.011293</td>\n",
       "      <td>...</td>\n",
       "      <td>0.002256</td>\n",
       "      <td>0.008769</td>\n",
       "      <td>0.002926</td>\n",
       "      <td>0.015879</td>\n",
       "      <td>0.011763</td>\n",
       "      <td>0.002093</td>\n",
       "      <td>0.002672</td>\n",
       "      <td>0.000318</td>\n",
       "      <td>0.000241</td>\n",
       "      <td>0.000161</td>\n",
       "    </tr>\n",
       "    <tr>\n",
       "      <th>1918</th>\n",
       "      <td>0.015923</td>\n",
       "      <td>0.004012</td>\n",
       "      <td>0.001691</td>\n",
       "      <td>0.000009</td>\n",
       "      <td>0.007465</td>\n",
       "      <td>0.013479</td>\n",
       "      <td>0.006299</td>\n",
       "      <td>0.004958</td>\n",
       "      <td>0.001369</td>\n",
       "      <td>0.005882</td>\n",
       "      <td>...</td>\n",
       "      <td>0.001123</td>\n",
       "      <td>0.006200</td>\n",
       "      <td>0.000862</td>\n",
       "      <td>0.016185</td>\n",
       "      <td>0.013963</td>\n",
       "      <td>0.005277</td>\n",
       "      <td>0.000793</td>\n",
       "      <td>0.001617</td>\n",
       "      <td>0.000171</td>\n",
       "      <td>0.000078</td>\n",
       "    </tr>\n",
       "    <tr>\n",
       "      <th>1919</th>\n",
       "      <td>0.010587</td>\n",
       "      <td>0.007988</td>\n",
       "      <td>0.005209</td>\n",
       "      <td>0.000021</td>\n",
       "      <td>0.008267</td>\n",
       "      <td>0.008551</td>\n",
       "      <td>0.000650</td>\n",
       "      <td>0.007534</td>\n",
       "      <td>0.001691</td>\n",
       "      <td>0.007884</td>\n",
       "      <td>...</td>\n",
       "      <td>0.001575</td>\n",
       "      <td>0.004213</td>\n",
       "      <td>0.001154</td>\n",
       "      <td>0.006233</td>\n",
       "      <td>0.013760</td>\n",
       "      <td>0.003859</td>\n",
       "      <td>0.000766</td>\n",
       "      <td>0.002551</td>\n",
       "      <td>0.000395</td>\n",
       "      <td>0.000228</td>\n",
       "    </tr>\n",
       "    <tr>\n",
       "      <th>1920</th>\n",
       "      <td>0.008852</td>\n",
       "      <td>0.008157</td>\n",
       "      <td>0.003489</td>\n",
       "      <td>0.000026</td>\n",
       "      <td>0.009645</td>\n",
       "      <td>0.005667</td>\n",
       "      <td>0.000438</td>\n",
       "      <td>0.008820</td>\n",
       "      <td>0.001028</td>\n",
       "      <td>0.007650</td>\n",
       "      <td>...</td>\n",
       "      <td>0.001011</td>\n",
       "      <td>0.013058</td>\n",
       "      <td>0.002848</td>\n",
       "      <td>0.015345</td>\n",
       "      <td>0.019977</td>\n",
       "      <td>0.002438</td>\n",
       "      <td>0.000222</td>\n",
       "      <td>0.000871</td>\n",
       "      <td>0.000509</td>\n",
       "      <td>0.000036</td>\n",
       "    </tr>\n",
       "  </tbody>\n",
       "</table>\n",
       "<p>5 rows × 200 columns</p>\n",
       "</div>"
      ],
      "text/plain": [
       "                t0        t1        t2        t3        t4        t5  \\\n",
       "firstpub                                                               \n",
       "1916      0.001421  0.005393  0.003457  0.000032  0.007477  0.004149   \n",
       "1917      0.005756  0.007032  0.003457  0.000036  0.008851  0.006280   \n",
       "1918      0.015923  0.004012  0.001691  0.000009  0.007465  0.013479   \n",
       "1919      0.010587  0.007988  0.005209  0.000021  0.008267  0.008551   \n",
       "1920      0.008852  0.008157  0.003489  0.000026  0.009645  0.005667   \n",
       "\n",
       "                t6        t7        t8        t9  ...      t190      t191  \\\n",
       "firstpub                                          ...                       \n",
       "1916      0.009534  0.004477  0.000739  0.008114  ...  0.002799  0.006314   \n",
       "1917      0.001599  0.006263  0.000791  0.011293  ...  0.002256  0.008769   \n",
       "1918      0.006299  0.004958  0.001369  0.005882  ...  0.001123  0.006200   \n",
       "1919      0.000650  0.007534  0.001691  0.007884  ...  0.001575  0.004213   \n",
       "1920      0.000438  0.008820  0.001028  0.007650  ...  0.001011  0.013058   \n",
       "\n",
       "              t192      t193      t194      t195      t196      t197  \\\n",
       "firstpub                                                               \n",
       "1916      0.000857  0.010612  0.026162  0.001638  0.000339  0.000617   \n",
       "1917      0.002926  0.015879  0.011763  0.002093  0.002672  0.000318   \n",
       "1918      0.000862  0.016185  0.013963  0.005277  0.000793  0.001617   \n",
       "1919      0.001154  0.006233  0.013760  0.003859  0.000766  0.002551   \n",
       "1920      0.002848  0.015345  0.019977  0.002438  0.000222  0.000871   \n",
       "\n",
       "              t198      t199  \n",
       "firstpub                      \n",
       "1916      0.000123  0.000095  \n",
       "1917      0.000241  0.000161  \n",
       "1918      0.000171  0.000078  \n",
       "1919      0.000395  0.000228  \n",
       "1920      0.000509  0.000036  \n",
       "\n",
       "[5 rows x 200 columns]"
      ]
     },
     "execution_count": 32,
     "metadata": {},
     "output_type": "execute_result"
    }
   ],
   "source": [
    "wideyears = widedata.groupby('firstpub').mean()\n",
    "wideyears.head()"
   ]
  },
  {
   "cell_type": "code",
   "execution_count": 33,
   "id": "7160dbca-9efa-4949-aae2-953166bbbf1d",
   "metadata": {},
   "outputs": [
    {
     "data": {
      "text/html": [
       "<div>\n",
       "<style scoped>\n",
       "    .dataframe tbody tr th:only-of-type {\n",
       "        vertical-align: middle;\n",
       "    }\n",
       "\n",
       "    .dataframe tbody tr th {\n",
       "        vertical-align: top;\n",
       "    }\n",
       "\n",
       "    .dataframe thead th {\n",
       "        text-align: right;\n",
       "    }\n",
       "</style>\n",
       "<table border=\"1\" class=\"dataframe\">\n",
       "  <thead>\n",
       "    <tr style=\"text-align: right;\">\n",
       "      <th></th>\n",
       "      <th>t0</th>\n",
       "      <th>t1</th>\n",
       "      <th>t2</th>\n",
       "      <th>t3</th>\n",
       "      <th>t4</th>\n",
       "      <th>t5</th>\n",
       "      <th>t6</th>\n",
       "      <th>t7</th>\n",
       "      <th>t8</th>\n",
       "      <th>t9</th>\n",
       "      <th>...</th>\n",
       "      <th>t190</th>\n",
       "      <th>t191</th>\n",
       "      <th>t192</th>\n",
       "      <th>t193</th>\n",
       "      <th>t194</th>\n",
       "      <th>t195</th>\n",
       "      <th>t196</th>\n",
       "      <th>t197</th>\n",
       "      <th>t198</th>\n",
       "      <th>t199</th>\n",
       "    </tr>\n",
       "    <tr>\n",
       "      <th>firstpub</th>\n",
       "      <th></th>\n",
       "      <th></th>\n",
       "      <th></th>\n",
       "      <th></th>\n",
       "      <th></th>\n",
       "      <th></th>\n",
       "      <th></th>\n",
       "      <th></th>\n",
       "      <th></th>\n",
       "      <th></th>\n",
       "      <th></th>\n",
       "      <th></th>\n",
       "      <th></th>\n",
       "      <th></th>\n",
       "      <th></th>\n",
       "      <th></th>\n",
       "      <th></th>\n",
       "      <th></th>\n",
       "      <th></th>\n",
       "      <th></th>\n",
       "      <th></th>\n",
       "    </tr>\n",
       "  </thead>\n",
       "  <tbody>\n",
       "    <tr>\n",
       "      <th>1966</th>\n",
       "      <td>0.002393</td>\n",
       "      <td>0.001961</td>\n",
       "      <td>0.005098</td>\n",
       "      <td>0.004896</td>\n",
       "      <td>0.007150</td>\n",
       "      <td>0.008464</td>\n",
       "      <td>0.000827</td>\n",
       "      <td>0.002766</td>\n",
       "      <td>0.001199</td>\n",
       "      <td>0.009704</td>\n",
       "      <td>...</td>\n",
       "      <td>0.013969</td>\n",
       "      <td>0.007291</td>\n",
       "      <td>0.015034</td>\n",
       "      <td>0.002237</td>\n",
       "      <td>0.007306</td>\n",
       "      <td>0.005760</td>\n",
       "      <td>0.000600</td>\n",
       "      <td>0.000910</td>\n",
       "      <td>0.006282</td>\n",
       "      <td>0.000417</td>\n",
       "    </tr>\n",
       "    <tr>\n",
       "      <th>1967</th>\n",
       "      <td>0.003571</td>\n",
       "      <td>0.001977</td>\n",
       "      <td>0.006653</td>\n",
       "      <td>0.009121</td>\n",
       "      <td>0.007820</td>\n",
       "      <td>0.006043</td>\n",
       "      <td>0.001731</td>\n",
       "      <td>0.002738</td>\n",
       "      <td>0.001818</td>\n",
       "      <td>0.009021</td>\n",
       "      <td>...</td>\n",
       "      <td>0.012893</td>\n",
       "      <td>0.006145</td>\n",
       "      <td>0.014431</td>\n",
       "      <td>0.001922</td>\n",
       "      <td>0.007244</td>\n",
       "      <td>0.003111</td>\n",
       "      <td>0.000524</td>\n",
       "      <td>0.001842</td>\n",
       "      <td>0.005030</td>\n",
       "      <td>0.000458</td>\n",
       "    </tr>\n",
       "    <tr>\n",
       "      <th>1968</th>\n",
       "      <td>0.003886</td>\n",
       "      <td>0.001968</td>\n",
       "      <td>0.005802</td>\n",
       "      <td>0.008274</td>\n",
       "      <td>0.007988</td>\n",
       "      <td>0.006757</td>\n",
       "      <td>0.001229</td>\n",
       "      <td>0.001830</td>\n",
       "      <td>0.001305</td>\n",
       "      <td>0.010700</td>\n",
       "      <td>...</td>\n",
       "      <td>0.013903</td>\n",
       "      <td>0.005047</td>\n",
       "      <td>0.015865</td>\n",
       "      <td>0.002485</td>\n",
       "      <td>0.008057</td>\n",
       "      <td>0.006231</td>\n",
       "      <td>0.000252</td>\n",
       "      <td>0.000652</td>\n",
       "      <td>0.006508</td>\n",
       "      <td>0.000564</td>\n",
       "    </tr>\n",
       "    <tr>\n",
       "      <th>1969</th>\n",
       "      <td>0.003494</td>\n",
       "      <td>0.001709</td>\n",
       "      <td>0.005165</td>\n",
       "      <td>0.008878</td>\n",
       "      <td>0.007598</td>\n",
       "      <td>0.005230</td>\n",
       "      <td>0.000870</td>\n",
       "      <td>0.002264</td>\n",
       "      <td>0.001674</td>\n",
       "      <td>0.007882</td>\n",
       "      <td>...</td>\n",
       "      <td>0.016079</td>\n",
       "      <td>0.006483</td>\n",
       "      <td>0.011546</td>\n",
       "      <td>0.001878</td>\n",
       "      <td>0.006161</td>\n",
       "      <td>0.003819</td>\n",
       "      <td>0.000388</td>\n",
       "      <td>0.001164</td>\n",
       "      <td>0.005814</td>\n",
       "      <td>0.000467</td>\n",
       "    </tr>\n",
       "    <tr>\n",
       "      <th>1970</th>\n",
       "      <td>0.002797</td>\n",
       "      <td>0.001575</td>\n",
       "      <td>0.004949</td>\n",
       "      <td>0.008237</td>\n",
       "      <td>0.008295</td>\n",
       "      <td>0.008069</td>\n",
       "      <td>0.001729</td>\n",
       "      <td>0.002097</td>\n",
       "      <td>0.001477</td>\n",
       "      <td>0.007453</td>\n",
       "      <td>...</td>\n",
       "      <td>0.014935</td>\n",
       "      <td>0.006197</td>\n",
       "      <td>0.010086</td>\n",
       "      <td>0.002363</td>\n",
       "      <td>0.006559</td>\n",
       "      <td>0.003216</td>\n",
       "      <td>0.000287</td>\n",
       "      <td>0.001236</td>\n",
       "      <td>0.015400</td>\n",
       "      <td>0.000341</td>\n",
       "    </tr>\n",
       "  </tbody>\n",
       "</table>\n",
       "<p>5 rows × 200 columns</p>\n",
       "</div>"
      ],
      "text/plain": [
       "                t0        t1        t2        t3        t4        t5  \\\n",
       "firstpub                                                               \n",
       "1966      0.002393  0.001961  0.005098  0.004896  0.007150  0.008464   \n",
       "1967      0.003571  0.001977  0.006653  0.009121  0.007820  0.006043   \n",
       "1968      0.003886  0.001968  0.005802  0.008274  0.007988  0.006757   \n",
       "1969      0.003494  0.001709  0.005165  0.008878  0.007598  0.005230   \n",
       "1970      0.002797  0.001575  0.004949  0.008237  0.008295  0.008069   \n",
       "\n",
       "                t6        t7        t8        t9  ...      t190      t191  \\\n",
       "firstpub                                          ...                       \n",
       "1966      0.000827  0.002766  0.001199  0.009704  ...  0.013969  0.007291   \n",
       "1967      0.001731  0.002738  0.001818  0.009021  ...  0.012893  0.006145   \n",
       "1968      0.001229  0.001830  0.001305  0.010700  ...  0.013903  0.005047   \n",
       "1969      0.000870  0.002264  0.001674  0.007882  ...  0.016079  0.006483   \n",
       "1970      0.001729  0.002097  0.001477  0.007453  ...  0.014935  0.006197   \n",
       "\n",
       "              t192      t193      t194      t195      t196      t197  \\\n",
       "firstpub                                                               \n",
       "1966      0.015034  0.002237  0.007306  0.005760  0.000600  0.000910   \n",
       "1967      0.014431  0.001922  0.007244  0.003111  0.000524  0.001842   \n",
       "1968      0.015865  0.002485  0.008057  0.006231  0.000252  0.000652   \n",
       "1969      0.011546  0.001878  0.006161  0.003819  0.000388  0.001164   \n",
       "1970      0.010086  0.002363  0.006559  0.003216  0.000287  0.001236   \n",
       "\n",
       "              t198      t199  \n",
       "firstpub                      \n",
       "1966      0.006282  0.000417  \n",
       "1967      0.005030  0.000458  \n",
       "1968      0.006508  0.000564  \n",
       "1969      0.005814  0.000467  \n",
       "1970      0.015400  0.000341  \n",
       "\n",
       "[5 rows x 200 columns]"
      ]
     },
     "execution_count": 33,
     "metadata": {},
     "output_type": "execute_result"
    }
   ],
   "source": [
    "otheryears = otherdata.groupby('firstpub').mean()\n",
    "otheryears.tail()"
   ]
  },
  {
   "cell_type": "code",
   "execution_count": 111,
   "id": "21101f02-838c-47f5-bd4a-6a7384d359d8",
   "metadata": {},
   "outputs": [],
   "source": [
    "def compare_cosinesums(base, target, lag, mask = [True] * 200):\n",
    "    total = 0\n",
    "    count = 0\n",
    "    for year in range(1916, 1951):\n",
    "        basevec = np.array(base.loc[year, :][0: 200])\n",
    "        compvec = np.array(target.loc[year + lag, :][0: 200])\n",
    "        cos = cosine(basevec[mask], compvec[mask])\n",
    "        total += cos\n",
    "        count += 1\n",
    "    return total / count\n",
    "        "
   ]
  },
  {
   "cell_type": "code",
   "execution_count": 17,
   "id": "09eeb019-e52c-461e-9989-b151861abfdd",
   "metadata": {},
   "outputs": [
    {
     "data": {
      "text/plain": [
       "2.83701125770769"
      ]
     },
     "execution_count": 17,
     "metadata": {},
     "output_type": "execute_result"
    }
   ],
   "source": [
    "compare_cosinesums(wideyears, otheryears, -2)"
   ]
  },
  {
   "cell_type": "code",
   "execution_count": 18,
   "id": "5410b1c6-757e-47d6-9b86-5174458b95be",
   "metadata": {},
   "outputs": [
    {
     "data": {
      "text/plain": [
       "2.7162115310115786"
      ]
     },
     "execution_count": 18,
     "metadata": {},
     "output_type": "execute_result"
    }
   ],
   "source": [
    "compare_cosinesums(wideyears, otheryears, -1)"
   ]
  },
  {
   "cell_type": "code",
   "execution_count": 19,
   "id": "016e4a9a-2e4c-4f36-ac61-527bd3df493f",
   "metadata": {},
   "outputs": [
    {
     "data": {
      "text/plain": [
       "2.607076903317795"
      ]
     },
     "execution_count": 19,
     "metadata": {},
     "output_type": "execute_result"
    }
   ],
   "source": [
    "compare_cosinesums(wideyears, otheryears, 0)"
   ]
  },
  {
   "cell_type": "code",
   "execution_count": 20,
   "id": "5aa2ca29-ce61-4492-bbd3-23853ee15796",
   "metadata": {},
   "outputs": [
    {
     "data": {
      "text/plain": [
       "2.5844612045141493"
      ]
     },
     "execution_count": 20,
     "metadata": {},
     "output_type": "execute_result"
    }
   ],
   "source": [
    "compare_cosinesums(wideyears, otheryears, 1)"
   ]
  },
  {
   "cell_type": "code",
   "execution_count": 21,
   "id": "5edc4bde-cb7d-4020-be66-8ea8494d19d5",
   "metadata": {},
   "outputs": [
    {
     "data": {
      "text/plain": [
       "2.580636250357937"
      ]
     },
     "execution_count": 21,
     "metadata": {},
     "output_type": "execute_result"
    }
   ],
   "source": [
    "compare_cosinesums(wideyears, otheryears, 2)"
   ]
  },
  {
   "cell_type": "code",
   "execution_count": 22,
   "id": "a7ac8edb-a54e-4d8c-9b94-d9d434a12ca3",
   "metadata": {},
   "outputs": [
    {
     "data": {
      "text/plain": [
       "2.585516089388348"
      ]
     },
     "execution_count": 22,
     "metadata": {},
     "output_type": "execute_result"
    }
   ],
   "source": [
    "compare_cosinesums(wideyears, otheryears, 3)"
   ]
  },
  {
   "cell_type": "code",
   "execution_count": 112,
   "id": "21e958f9-4862-41d0-a3c2-bc7836134f72",
   "metadata": {},
   "outputs": [],
   "source": [
    "laglist = []\n",
    "cosinelist = []\n",
    "for lag in range(-10, 11):\n",
    "    thesum = compare_cosinesums(wideyears, otheryears, lag)\n",
    "    cosinelist.append(thesum)\n",
    "    laglist.append(lag)"
   ]
  },
  {
   "cell_type": "code",
   "execution_count": 107,
   "id": "04bef0e4-5d57-44f7-bddd-80a4276d5433",
   "metadata": {},
   "outputs": [],
   "source": [
    "import seaborn as sns"
   ]
  },
  {
   "cell_type": "code",
   "execution_count": 113,
   "id": "e8f64595-d448-43a6-b2a8-62cb0f2dc147",
   "metadata": {},
   "outputs": [],
   "source": [
    "df = pd.DataFrame({'lag': laglist, 'cos': cosinelist})"
   ]
  },
  {
   "cell_type": "code",
   "execution_count": 109,
   "id": "780e69ef-8b92-46a7-9ddf-d7ae2b5851ba",
   "metadata": {},
   "outputs": [],
   "source": [
    "sns.set(rc = {'figure.figsize':(8,5)})"
   ]
  },
  {
   "cell_type": "code",
   "execution_count": 115,
   "id": "93c2fdf4-a5a0-4917-a7c4-d2a949922ef2",
   "metadata": {},
   "outputs": [
    {
     "data": {
      "text/plain": [
       "Text(0, 0.5, 'avg cosine distance')"
      ]
     },
     "execution_count": 115,
     "metadata": {},
     "output_type": "execute_result"
    },
    {
     "data": {
      "image/png": "[encoded data removed]",
      "text/plain": [
       "<Figure size 576x360 with 1 Axes>"
      ]
     },
     "metadata": {},
     "output_type": "display_data"
    }
   ],
   "source": [
    "j = sns.lineplot(x = 'lag', y = 'cos', data = df)\n",
    "j.set_xlabel('years top 25% shifted forward',fontsize=16)\n",
    "j.set_ylabel('avg cosine distance',fontsize=16)"
   ]
  },
  {
   "cell_type": "code",
   "execution_count": 120,
   "id": "c61165a6-c500-45f1-9897-8815a50c0c96",
   "metadata": {},
   "outputs": [],
   "source": [
    "laglist = []\n",
    "cosinelist = []\n",
    "for lag in range(-10, 11):\n",
    "    thesum = compare_cosinesums(wideyears, otheryears, lag, aummask)\n",
    "    cosinelist.append(thesum)\n",
    "    laglist.append(lag)"
   ]
  },
  {
   "cell_type": "code",
   "execution_count": 121,
   "id": "48fc81fc-ea95-496f-a78d-8a9a6b06bc06",
   "metadata": {},
   "outputs": [
    {
     "data": {
      "text/plain": [
       "Text(0, 0.5, 'sum of cosine distances')"
      ]
     },
     "execution_count": 121,
     "metadata": {},
     "output_type": "execute_result"
    },
    {
     "data": {
      "image/png": "[encoded data removed]",
      "text/plain": [
       "<Figure size 576x360 with 1 Axes>"
      ]
     },
     "metadata": {},
     "output_type": "display_data"
    }
   ],
   "source": [
    "df = pd.DataFrame({'lag': laglist, 'cos': cosinelist})\n",
    "j = sns.lineplot(x = 'lag', y = 'cos', data = df)\n",
    "j.set_xlabel('years top 25% shifted forward',fontsize=16)\n",
    "j.set_ylabel('sum of cosine distances',fontsize=16)"
   ]
  },
  {
   "cell_type": "code",
   "execution_count": 99,
   "id": "32bf7e21-3386-4ca3-83d2-ecf3f00910e3",
   "metadata": {},
   "outputs": [
    {
     "data": {
      "text/plain": [
       "17"
      ]
     },
     "execution_count": 99,
     "metadata": {},
     "output_type": "execute_result"
    }
   ],
   "source": [
    "cosinelist.index(min(cosinelist))"
   ]
  },
  {
   "cell_type": "code",
   "execution_count": 64,
   "id": "91920c8d-1f0c-43e1-9c78-670d5ae80174",
   "metadata": {},
   "outputs": [],
   "source": [
    "lagstrengths = []\n",
    "\n",
    "for t in range(200):\n",
    "    variable = 't' + str(t)\n",
    "    thediffs = []\n",
    "    for slip in range(2, 4):\n",
    "        baserun = wideyears.loc[[x for x in range(1916, 1951)] , variable]\n",
    "        target0 = otheryears.loc[[x for x in range(1916, 1951)], variable]\n",
    "        target1 = otheryears.loc[[x for x in range(1916 + slip, 1951 + slip)], variable]\n",
    "        straight_r, p = pearsonr(baserun, target0)\n",
    "        lag_r, p = pearsonr(baserun, target1)\n",
    "        diff = np.arctanh(lag_r) - np.arctanh(straight_r)\n",
    "        thediffs.append(diff)\n",
    "    lagstrengths.append(max(thediffs))"
   ]
  },
  {
   "cell_type": "code",
   "execution_count": 46,
   "id": "2e443b34-df16-4371-8d33-6b7692bf9319",
   "metadata": {},
   "outputs": [
    {
     "data": {
      "text/html": [
       "<div>\n",
       "<style scoped>\n",
       "    .dataframe tbody tr th:only-of-type {\n",
       "        vertical-align: middle;\n",
       "    }\n",
       "\n",
       "    .dataframe tbody tr th {\n",
       "        vertical-align: top;\n",
       "    }\n",
       "\n",
       "    .dataframe thead th {\n",
       "        text-align: right;\n",
       "    }\n",
       "</style>\n",
       "<table border=\"1\" class=\"dataframe\">\n",
       "  <thead>\n",
       "    <tr style=\"text-align: right;\">\n",
       "      <th></th>\n",
       "      <th>label</th>\n",
       "      <th>category</th>\n",
       "      <th>topicsize</th>\n",
       "      <th>delta</th>\n",
       "      <th>r2</th>\n",
       "      <th>sem_verdict</th>\n",
       "      <th>cohortmse</th>\n",
       "      <th>periodmse</th>\n",
       "      <th>agemse</th>\n",
       "      <th>delta_oos</th>\n",
       "      <th>r2_oos</th>\n",
       "      <th>cohortr2_oos</th>\n",
       "      <th>periodr2_oos</th>\n",
       "      <th>keywords</th>\n",
       "      <th>top7books</th>\n",
       "      <th>next5books, biggestauth, datequartiles</th>\n",
       "      <th>comments</th>\n",
       "    </tr>\n",
       "  </thead>\n",
       "  <tbody>\n",
       "    <tr>\n",
       "      <th>0</th>\n",
       "      <td>war, mostly WWII</td>\n",
       "      <td>event</td>\n",
       "      <td>0.267</td>\n",
       "      <td>0.052664</td>\n",
       "      <td>0.047869</td>\n",
       "      <td>SDM</td>\n",
       "      <td>11.6860</td>\n",
       "      <td>209.5212</td>\n",
       "      <td>0.53325</td>\n",
       "      <td>0.078345</td>\n",
       "      <td>0.024379</td>\n",
       "      <td>0.020000</td>\n",
       "      <td>0.102817</td>\n",
       "      <td>war german french germans france germany ameri...</td>\n",
       "      <td>0.136 | Gibbs, Philip | Through the storm | 19...</td>\n",
       "      <td>0.12 | Sweetser, Arthur | Roadside glimpses of...</td>\n",
       "      <td>Although hitler and nazi are keywords, we can ...</td>\n",
       "    </tr>\n",
       "    <tr>\n",
       "      <th>1</th>\n",
       "      <td>e20c scientists, labs, and professors, mostly ...</td>\n",
       "      <td>genre</td>\n",
       "      <td>0.288</td>\n",
       "      <td>0.578712</td>\n",
       "      <td>0.017090</td>\n",
       "      <td>Inconclusive</td>\n",
       "      <td>25.0768</td>\n",
       "      <td>16.0822</td>\n",
       "      <td>2.13175</td>\n",
       "      <td>0.689357</td>\n",
       "      <td>0.003942</td>\n",
       "      <td>0.061597</td>\n",
       "      <td>0.017510</td>\n",
       "      <td>professor man quite something thing old little...</td>\n",
       "      <td>0.177 | Stewart, J. I. M. (John Innes  | Hare ...</td>\n",
       "      <td>0.147 | Wells, H. G. (Herbert George) | Star-b...</td>\n",
       "      <td>I've changed my mind here twice. The topic is ...</td>\n",
       "    </tr>\n",
       "    <tr>\n",
       "      <th>2</th>\n",
       "      <td>objects in relation to doors, pockets, rooms, ...</td>\n",
       "      <td>physical description</td>\n",
       "      <td>0.479</td>\n",
       "      <td>0.642251</td>\n",
       "      <td>0.006939</td>\n",
       "      <td>AUM</td>\n",
       "      <td>16.1334</td>\n",
       "      <td>9.5950</td>\n",
       "      <td>2.73375</td>\n",
       "      <td>0.433169</td>\n",
       "      <td>-0.004519</td>\n",
       "      <td>0.012027</td>\n",
       "      <td>0.011970</td>\n",
       "      <td>door put box paper hand took room went made po...</td>\n",
       "      <td>0.489 | Sellers, Tom | Unknown Title | 1927 0....</td>\n",
       "      <td>0.122 | Axline, Virginia Mae | Dibs: in search...</td>\n",
       "      <td>Notice relatively high document entropy, and  ...</td>\n",
       "    </tr>\n",
       "    <tr>\n",
       "      <th>3</th>\n",
       "      <td>late 20c US political thrillers</td>\n",
       "      <td>genre</td>\n",
       "      <td>0.388</td>\n",
       "      <td>0.238089</td>\n",
       "      <td>0.136532</td>\n",
       "      <td>AUM</td>\n",
       "      <td>46.8034</td>\n",
       "      <td>151.2078</td>\n",
       "      <td>9.89675</td>\n",
       "      <td>0.140974</td>\n",
       "      <td>0.122522</td>\n",
       "      <td>0.029488</td>\n",
       "      <td>0.198506</td>\n",
       "      <td>american people president our security re new ...</td>\n",
       "      <td>0.297 | Digo, Benjamin | Creator of Nikho | 19...</td>\n",
       "      <td>0.243 | Clancy, Tom | The sum of all fears | 1...</td>\n",
       "      <td>Low doc entropy, high number of rank-1 docs; t...</td>\n",
       "    </tr>\n",
       "    <tr>\n",
       "      <th>4</th>\n",
       "      <td>diffuse</td>\n",
       "      <td>uncategorized dimension of style</td>\n",
       "      <td>0.666</td>\n",
       "      <td>0.783425</td>\n",
       "      <td>0.028121</td>\n",
       "      <td>AUM</td>\n",
       "      <td>61.5444</td>\n",
       "      <td>17.3744</td>\n",
       "      <td>4.91075</td>\n",
       "      <td>0.809441</td>\n",
       "      <td>0.011077</td>\n",
       "      <td>0.078168</td>\n",
       "      <td>0.020837</td>\n",
       "      <td>man old people men because knew good always bi...</td>\n",
       "      <td>0.157 | Hanley, Gerald | Drinkers of darkness ...</td>\n",
       "      <td>0.123 | Onadipe, Kola | The king is naked : an...</td>\n",
       "      <td>A pretty diffuse topic. The books come from di...</td>\n",
       "    </tr>\n",
       "  </tbody>\n",
       "</table>\n",
       "</div>"
      ],
      "text/plain": [
       "                                               label  \\\n",
       "0                                   war, mostly WWII   \n",
       "1  e20c scientists, labs, and professors, mostly ...   \n",
       "2  objects in relation to doors, pockets, rooms, ...   \n",
       "3                    late 20c US political thrillers   \n",
       "4                                            diffuse   \n",
       "\n",
       "                           category  topicsize     delta        r2  \\\n",
       "0                             event      0.267  0.052664  0.047869   \n",
       "1                             genre      0.288  0.578712  0.017090   \n",
       "2              physical description      0.479  0.642251  0.006939   \n",
       "3                             genre      0.388  0.238089  0.136532   \n",
       "4  uncategorized dimension of style      0.666  0.783425  0.028121   \n",
       "\n",
       "    sem_verdict  cohortmse  periodmse   agemse  delta_oos    r2_oos  \\\n",
       "0           SDM    11.6860   209.5212  0.53325   0.078345  0.024379   \n",
       "1  Inconclusive    25.0768    16.0822  2.13175   0.689357  0.003942   \n",
       "2           AUM    16.1334     9.5950  2.73375   0.433169 -0.004519   \n",
       "3           AUM    46.8034   151.2078  9.89675   0.140974  0.122522   \n",
       "4           AUM    61.5444    17.3744  4.91075   0.809441  0.011077   \n",
       "\n",
       "   cohortr2_oos  periodr2_oos  \\\n",
       "0      0.020000      0.102817   \n",
       "1      0.061597      0.017510   \n",
       "2      0.012027      0.011970   \n",
       "3      0.029488      0.198506   \n",
       "4      0.078168      0.020837   \n",
       "\n",
       "                                            keywords  \\\n",
       "0  war german french germans france germany ameri...   \n",
       "1  professor man quite something thing old little...   \n",
       "2  door put box paper hand took room went made po...   \n",
       "3  american people president our security re new ...   \n",
       "4  man old people men because knew good always bi...   \n",
       "\n",
       "                                           top7books  \\\n",
       "0  0.136 | Gibbs, Philip | Through the storm | 19...   \n",
       "1  0.177 | Stewart, J. I. M. (John Innes  | Hare ...   \n",
       "2  0.489 | Sellers, Tom | Unknown Title | 1927 0....   \n",
       "3  0.297 | Digo, Benjamin | Creator of Nikho | 19...   \n",
       "4  0.157 | Hanley, Gerald | Drinkers of darkness ...   \n",
       "\n",
       "              next5books, biggestauth, datequartiles  \\\n",
       "0  0.12 | Sweetser, Arthur | Roadside glimpses of...   \n",
       "1  0.147 | Wells, H. G. (Herbert George) | Star-b...   \n",
       "2  0.122 | Axline, Virginia Mae | Dibs: in search...   \n",
       "3  0.243 | Clancy, Tom | The sum of all fears | 1...   \n",
       "4  0.123 | Onadipe, Kola | The king is naked : an...   \n",
       "\n",
       "                                            comments  \n",
       "0  Although hitler and nazi are keywords, we can ...  \n",
       "1  I've changed my mind here twice. The topic is ...  \n",
       "2  Notice relatively high document entropy, and  ...  \n",
       "3  Low doc entropy, high number of rank-1 docs; t...  \n",
       "4  A pretty diffuse topic. The books come from di...  "
      ]
     },
     "execution_count": 46,
     "metadata": {},
     "output_type": "execute_result"
    }
   ],
   "source": [
    "topicsum = pd.read_csv('../topic_summary.tsv', sep = '\\t')\n",
    "topicsum.head()"
   ]
  },
  {
   "cell_type": "code",
   "execution_count": 47,
   "id": "57f137a7-3086-471f-abf5-f48de721d381",
   "metadata": {},
   "outputs": [
    {
     "data": {
      "text/plain": [
       "SpearmanrResult(correlation=0.06859371484287108, pvalue=0.33448546306497207)"
      ]
     },
     "execution_count": 47,
     "metadata": {},
     "output_type": "execute_result"
    }
   ],
   "source": [
    "spearmanr(lagstrengths, topicsum.delta)"
   ]
  },
  {
   "cell_type": "code",
   "execution_count": 70,
   "id": "7e4a8118-624f-4139-9421-48045a8a8221",
   "metadata": {},
   "outputs": [
    {
     "data": {
      "text/plain": [
       "[(0.5656210338418408, 58),\n",
       " (0.5443652364470329, 170),\n",
       " (0.5348324125235472, 144),\n",
       " (0.502352935835783, 194),\n",
       " (0.47623557275669615, 166),\n",
       " (0.46952013213189814, 35),\n",
       " (0.40628245780909994, 32),\n",
       " (0.3917310779826605, 101),\n",
       " (0.3874050327685594, 157),\n",
       " (0.38024213037437693, 169)]"
      ]
     },
     "execution_count": 70,
     "metadata": {},
     "output_type": "execute_result"
    }
   ],
   "source": [
    "tuplelist = [x for x in zip(lagstrengths, [x for x in range(200)])]\n",
    "tuplelist.sort(reverse = True)\n",
    "tuplelist[0:10]"
   ]
  },
  {
   "cell_type": "code",
   "execution_count": 66,
   "id": "6b32e8a5-8157-4d56-8d52-82515f43c820",
   "metadata": {},
   "outputs": [
    {
     "data": {
      "text/plain": [
       "-0.8551245929016215"
      ]
     },
     "execution_count": 66,
     "metadata": {},
     "output_type": "execute_result"
    }
   ],
   "source": [
    "lagstrengths[0]"
   ]
  },
  {
   "cell_type": "code",
   "execution_count": 79,
   "id": "8a42b9e5-dd32-412e-9b0c-06850635eb29",
   "metadata": {},
   "outputs": [],
   "source": [
    "df = pd.DataFrame(index = [x for x in range(1916, 1951)], \n",
    "                  data = {'famous': wideyears.loc[[x for x in range(1916, 1951)] , 't194'],\n",
    "                 'baseline': otheryears.loc[[x for x in range(1916, 1951)] , 't194']})"
   ]
  },
  {
   "cell_type": "code",
   "execution_count": 80,
   "id": "d05d598e-a0af-4d3d-b0d2-5ecbc171311b",
   "metadata": {},
   "outputs": [
    {
     "data": {
      "text/plain": [
       "<AxesSubplot:>"
      ]
     },
     "execution_count": 80,
     "metadata": {},
     "output_type": "execute_result"
    },
    {
     "data": {
      "image/png": "[encoded data removed]",
      "text/plain": [
       "<Figure size 576x360 with 1 Axes>"
      ]
     },
     "metadata": {},
     "output_type": "display_data"
    }
   ],
   "source": [
    "sns.lineplot(data = df)"
   ]
  },
  {
   "cell_type": "code",
   "execution_count": 82,
   "id": "c6376a85-f821-4823-aad6-60c6cd339e92",
   "metadata": {},
   "outputs": [
    {
     "data": {
      "text/plain": [
       "<AxesSubplot:>"
      ]
     },
     "execution_count": 82,
     "metadata": {},
     "output_type": "execute_result"
    },
    {
     "data": {
      "image/png": "[encoded data removed]",
      "text/plain": [
       "<Figure size 576x360 with 1 Axes>"
      ]
     },
     "metadata": {},
     "output_type": "display_data"
    }
   ],
   "source": [
    "df2 = pd.DataFrame(data = {'baseline': np.diff(df.baseline),\n",
    "                          'famous': np.diff(df.famous)})\n",
    "sns.lineplot(data = df2)"
   ]
  },
  {
   "cell_type": "code",
   "execution_count": 86,
   "id": "41095232-39b7-48b0-886f-1941dbabd3f2",
   "metadata": {},
   "outputs": [
    {
     "name": "stdout",
     "output_type": "stream",
     "text": [
      "35 34\n"
     ]
    }
   ],
   "source": [
    "print(len(df), len(df2))"
   ]
  },
  {
   "cell_type": "code",
   "execution_count": 83,
   "id": "34e4c461-2ab4-411b-a881-8c7aed3b613f",
   "metadata": {},
   "outputs": [],
   "source": [
    "from statsmodels.tsa.stattools import grangercausalitytests"
   ]
  },
  {
   "cell_type": "code",
   "execution_count": 84,
   "id": "3fcb9b67-a067-4bd1-91e4-242d8758318d",
   "metadata": {},
   "outputs": [
    {
     "name": "stdout",
     "output_type": "stream",
     "text": [
      "\n",
      "Granger Causality\n",
      "number of lags (no zero) 1\n",
      "ssr based F test:         F=1.5863  , p=0.2176  , df_denom=30, df_num=1\n",
      "ssr based chi2 test:   chi2=1.7449  , p=0.1865  , df=1\n",
      "likelihood ratio test: chi2=1.7003  , p=0.1922  , df=1\n",
      "parameter F test:         F=1.5863  , p=0.2176  , df_denom=30, df_num=1\n",
      "\n",
      "Granger Causality\n",
      "number of lags (no zero) 2\n",
      "ssr based F test:         F=1.9182  , p=0.1664  , df_denom=27, df_num=2\n",
      "ssr based chi2 test:   chi2=4.5468  , p=0.1030  , df=2\n",
      "likelihood ratio test: chi2=4.2515  , p=0.1193  , df=2\n",
      "parameter F test:         F=1.9182  , p=0.1664  , df_denom=27, df_num=2\n",
      "\n",
      "Granger Causality\n",
      "number of lags (no zero) 3\n",
      "ssr based F test:         F=0.7271  , p=0.5458  , df_denom=24, df_num=3\n",
      "ssr based chi2 test:   chi2=2.8177  , p=0.4206  , df=3\n",
      "likelihood ratio test: chi2=2.6969  , p=0.4408  , df=3\n",
      "parameter F test:         F=0.7271  , p=0.5458  , df_denom=24, df_num=3\n"
     ]
    },
    {
     "data": {
      "text/plain": [
       "{1: ({'ssr_ftest': (1.5862890162569565, 0.2175682827786039, 30.0, 1),\n",
       "   'ssr_chi2test': (1.7449179178826522, 0.18651689854413228, 1),\n",
       "   'lrtest': (1.7003498450989127, 0.19224223136015842, 1),\n",
       "   'params_ftest': (1.5862890162569583, 0.2175682827786039, 30.0, 1.0)},\n",
       "  [<statsmodels.regression.linear_model.RegressionResultsWrapper at 0x7f886870f650>,\n",
       "   <statsmodels.regression.linear_model.RegressionResultsWrapper at 0x7f88688b4e10>,\n",
       "   array([[0., 1., 0.]])]),\n",
       " 2: ({'ssr_ftest': (1.9181896261446132, 0.16636241198541746, 27.0, 2),\n",
       "   'ssr_chi2test': (4.546819854565009, 0.10296049301605531, 2),\n",
       "   'lrtest': (4.2514646888832885, 0.1193455342160887, 2),\n",
       "   'params_ftest': (1.9181896261446163, 0.1663624119854169, 27.0, 2.0)},\n",
       "  [<statsmodels.regression.linear_model.RegressionResultsWrapper at 0x7f88908ecbd0>,\n",
       "   <statsmodels.regression.linear_model.RegressionResultsWrapper at 0x7f8880e96750>,\n",
       "   array([[0., 0., 1., 0., 0.],\n",
       "          [0., 0., 0., 1., 0.]])]),\n",
       " 3: ({'ssr_ftest': (0.7271438893084251, 0.5457947129222911, 24.0, 3),\n",
       "   'ssr_chi2test': (2.817682571070147, 0.4205973171907246, 3),\n",
       "   'lrtest': (2.696895040114839, 0.4407552076790646, 3),\n",
       "   'params_ftest': (0.727143889308426, 0.5457947129222906, 24.0, 3.0)},\n",
       "  [<statsmodels.regression.linear_model.RegressionResultsWrapper at 0x7f88908fc410>,\n",
       "   <statsmodels.regression.linear_model.RegressionResultsWrapper at 0x7f88416eff10>,\n",
       "   array([[0., 0., 0., 1., 0., 0., 0.],\n",
       "          [0., 0., 0., 0., 1., 0., 0.],\n",
       "          [0., 0., 0., 0., 0., 1., 0.]])])}"
      ]
     },
     "execution_count": 84,
     "metadata": {},
     "output_type": "execute_result"
    }
   ],
   "source": [
    "grangercausalitytests(df2, 3)"
   ]
  },
  {
   "cell_type": "code",
   "execution_count": 87,
   "id": "766bad26-201b-41ee-876d-96f9cd04e618",
   "metadata": {},
   "outputs": [],
   "source": [
    "from scipy.stats import ttest_ind"
   ]
  },
  {
   "cell_type": "code",
   "execution_count": 88,
   "id": "799f70b7-7e0e-4566-a0f2-ce9c0feb2541",
   "metadata": {},
   "outputs": [],
   "source": [
    "lagstrengths = np.array(lagstrengths)"
   ]
  },
  {
   "cell_type": "code",
   "execution_count": 89,
   "id": "10b9627a-e795-404e-a94d-5471c0870c84",
   "metadata": {},
   "outputs": [],
   "source": [
    "sdmmask = topicsum.sem_verdict == 'SDM'"
   ]
  },
  {
   "cell_type": "code",
   "execution_count": 90,
   "id": "865f01b0-0ee1-4004-a8f1-c9930223d7db",
   "metadata": {},
   "outputs": [],
   "source": [
    "aummask = topicsum.sem_verdict == 'AUM'"
   ]
  },
  {
   "cell_type": "code",
   "execution_count": 119,
   "id": "115abdad-2949-4c41-aa8e-ab4d97d3cd7e",
   "metadata": {},
   "outputs": [
    {
     "data": {
      "text/plain": [
       "Ttest_indResult(statistic=-1.4148664769872805, pvalue=0.15880697160812093)"
      ]
     },
     "execution_count": 119,
     "metadata": {},
     "output_type": "execute_result"
    }
   ],
   "source": [
    "ttest_ind(lagstrengths[sdmmask], lagstrengths[aummask])"
   ]
  },
  {
   "cell_type": "code",
   "execution_count": 116,
   "id": "f08e2ae4-6c27-40b2-9591-7d86e8f0e303",
   "metadata": {},
   "outputs": [
    {
     "data": {
      "text/plain": [
       "0.04384448029963334"
      ]
     },
     "execution_count": 116,
     "metadata": {},
     "output_type": "execute_result"
    }
   ],
   "source": [
    "np.mean(lagstrengths)"
   ]
  },
  {
   "cell_type": "code",
   "execution_count": 120,
   "id": "b757eccc-9ee5-425d-8e5b-f1bc629108c7",
   "metadata": {},
   "outputs": [],
   "source": [
    "def cohens_d(a, b):\n",
    "    cohens_d = (mean(a) - mean(b)) / (sqrt((stdev(a) ** 2 + stdev(b) ** 2) / 2))\n",
    "    return cohens_d"
   ]
  },
  {
   "cell_type": "code",
   "execution_count": 123,
   "id": "3c90a562-3821-4f8b-a5de-625455aef4c3",
   "metadata": {},
   "outputs": [
    {
     "data": {
      "text/plain": [
       "-0.21370369783836088"
      ]
     },
     "execution_count": 123,
     "metadata": {},
     "output_type": "execute_result"
    }
   ],
   "source": [
    "cohens_d(lagstrengths[sdmmask], lagstrengths[aummask])"
   ]
  },
  {
   "cell_type": "code",
   "execution_count": 126,
   "id": "defcb29c-0619-4128-beb5-b3da4e179da8",
   "metadata": {},
   "outputs": [],
   "source": [
    "df = pd.DataFrame({'a': np.diff(otheryears.loc[[x for x in range(1916, 1951)], 't5']), \n",
    "                   'b': np.diff(wideyears.loc[[x for x in range(1916, 1951)], 't5'])})"
   ]
  },
  {
   "cell_type": "code",
   "execution_count": 127,
   "id": "7775a3cd-e412-4358-9e08-548a116d1890",
   "metadata": {},
   "outputs": [
    {
     "data": {
      "text/html": [
       "<div>\n",
       "<style scoped>\n",
       "    .dataframe tbody tr th:only-of-type {\n",
       "        vertical-align: middle;\n",
       "    }\n",
       "\n",
       "    .dataframe tbody tr th {\n",
       "        vertical-align: top;\n",
       "    }\n",
       "\n",
       "    .dataframe thead th {\n",
       "        text-align: right;\n",
       "    }\n",
       "</style>\n",
       "<table border=\"1\" class=\"dataframe\">\n",
       "  <thead>\n",
       "    <tr style=\"text-align: right;\">\n",
       "      <th></th>\n",
       "      <th>a</th>\n",
       "      <th>b</th>\n",
       "    </tr>\n",
       "  </thead>\n",
       "  <tbody>\n",
       "    <tr>\n",
       "      <th>0</th>\n",
       "      <td>0.000552</td>\n",
       "      <td>0.002130</td>\n",
       "    </tr>\n",
       "    <tr>\n",
       "      <th>1</th>\n",
       "      <td>0.003815</td>\n",
       "      <td>0.007199</td>\n",
       "    </tr>\n",
       "    <tr>\n",
       "      <th>2</th>\n",
       "      <td>0.000719</td>\n",
       "      <td>-0.004928</td>\n",
       "    </tr>\n",
       "    <tr>\n",
       "      <th>3</th>\n",
       "      <td>-0.001400</td>\n",
       "      <td>-0.002884</td>\n",
       "    </tr>\n",
       "    <tr>\n",
       "      <th>4</th>\n",
       "      <td>-0.001712</td>\n",
       "      <td>0.001339</td>\n",
       "    </tr>\n",
       "  </tbody>\n",
       "</table>\n",
       "</div>"
      ],
      "text/plain": [
       "          a         b\n",
       "0  0.000552  0.002130\n",
       "1  0.003815  0.007199\n",
       "2  0.000719 -0.004928\n",
       "3 -0.001400 -0.002884\n",
       "4 -0.001712  0.001339"
      ]
     },
     "execution_count": 127,
     "metadata": {},
     "output_type": "execute_result"
    }
   ],
   "source": [
    "df.head()"
   ]
  },
  {
   "cell_type": "code",
   "execution_count": 132,
   "id": "b46bfc91-8552-4280-a223-6d62ab633c41",
   "metadata": {},
   "outputs": [
    {
     "name": "stdout",
     "output_type": "stream",
     "text": [
      "\n",
      "Granger Causality\n",
      "number of lags (no zero) 1\n",
      "ssr based F test:         F=0.3759  , p=0.5444  , df_denom=30, df_num=1\n",
      "ssr based chi2 test:   chi2=0.4135  , p=0.5202  , df=1\n",
      "likelihood ratio test: chi2=0.4109  , p=0.5215  , df=1\n",
      "parameter F test:         F=0.3759  , p=0.5444  , df_denom=30, df_num=1\n",
      "\n",
      "Granger Causality\n",
      "number of lags (no zero) 2\n",
      "ssr based F test:         F=6.3309  , p=0.0056  , df_denom=27, df_num=2\n",
      "ssr based chi2 test:   chi2=15.0065 , p=0.0006  , df=2\n",
      "likelihood ratio test: chi2=12.3056 , p=0.0021  , df=2\n",
      "parameter F test:         F=6.3309  , p=0.0056  , df_denom=27, df_num=2\n",
      "\n",
      "Granger Causality\n",
      "number of lags (no zero) 3\n",
      "ssr based F test:         F=5.1166  , p=0.0071  , df_denom=24, df_num=3\n",
      "ssr based chi2 test:   chi2=19.8269 , p=0.0002  , df=3\n",
      "likelihood ratio test: chi2=15.3276 , p=0.0016  , df=3\n",
      "parameter F test:         F=5.1166  , p=0.0071  , df_denom=24, df_num=3\n"
     ]
    }
   ],
   "source": [
    "j = grangercausalitytests(df, 3)"
   ]
  },
  {
   "cell_type": "code",
   "execution_count": 137,
   "id": "ab819174-5799-4678-9c64-3787b3934238",
   "metadata": {},
   "outputs": [
    {
     "data": {
      "text/plain": [
       "0.00018435768239818037"
      ]
     },
     "execution_count": 137,
     "metadata": {},
     "output_type": "execute_result"
    }
   ],
   "source": [
    "j[3][0]['ssr_chi2test'][1]"
   ]
  },
  {
   "cell_type": "code",
   "execution_count": 156,
   "id": "95716c05-34fc-4793-8ef3-428a817a719c",
   "metadata": {},
   "outputs": [],
   "source": [
    "causal = []\n",
    "\n",
    "for i in range(200):\n",
    "    variable = 't' + str(i)\n",
    "    df = pd.DataFrame({'a': np.diff(otheryears.loc[[x for x in range(1916, 1951)], variable]), \n",
    "                   'b': np.diff(wideyears.loc[[x for x in range(1916, 1951)], variable])})\n",
    "    j = grangercausalitytests(df, 2, verbose = False)\n",
    "    result = j[2][0]['ssr_chi2test'][1]\n",
    "    if result < 0.05:\n",
    "        causal.append(True)\n",
    "    else:\n",
    "        causal.append(False)"
   ]
  },
  {
   "cell_type": "code",
   "execution_count": 157,
   "id": "c29e7b4f-8469-4798-9185-b668f6213af5",
   "metadata": {},
   "outputs": [
    {
     "data": {
      "text/plain": [
       "22"
      ]
     },
     "execution_count": 157,
     "metadata": {},
     "output_type": "execute_result"
    }
   ],
   "source": [
    "sum(causal)"
   ]
  },
  {
   "cell_type": "code",
   "execution_count": 158,
   "id": "dbd8ca99-36fe-4b67-9875-fdb34f04a998",
   "metadata": {},
   "outputs": [],
   "source": [
    "df = pd.DataFrame({'causal': causal, 'sem': topicsum.sem_verdict})\n",
    "conttable = pd.crosstab(index = df['causal'], columns = df['sem'])"
   ]
  },
  {
   "cell_type": "code",
   "execution_count": 159,
   "id": "bf2059be-efdd-47d3-86d5-f933dba49791",
   "metadata": {},
   "outputs": [
    {
     "data": {
      "text/html": [
       "<div>\n",
       "<style scoped>\n",
       "    .dataframe tbody tr th:only-of-type {\n",
       "        vertical-align: middle;\n",
       "    }\n",
       "\n",
       "    .dataframe tbody tr th {\n",
       "        vertical-align: top;\n",
       "    }\n",
       "\n",
       "    .dataframe thead th {\n",
       "        text-align: right;\n",
       "    }\n",
       "</style>\n",
       "<table border=\"1\" class=\"dataframe\">\n",
       "  <thead>\n",
       "    <tr style=\"text-align: right;\">\n",
       "      <th>sem</th>\n",
       "      <th>AUM</th>\n",
       "      <th>Inconclusive</th>\n",
       "      <th>SDM</th>\n",
       "    </tr>\n",
       "    <tr>\n",
       "      <th>causal</th>\n",
       "      <th></th>\n",
       "      <th></th>\n",
       "      <th></th>\n",
       "    </tr>\n",
       "  </thead>\n",
       "  <tbody>\n",
       "    <tr>\n",
       "      <th>False</th>\n",
       "      <td>110</td>\n",
       "      <td>14</td>\n",
       "      <td>54</td>\n",
       "    </tr>\n",
       "    <tr>\n",
       "      <th>True</th>\n",
       "      <td>18</td>\n",
       "      <td>1</td>\n",
       "      <td>3</td>\n",
       "    </tr>\n",
       "  </tbody>\n",
       "</table>\n",
       "</div>"
      ],
      "text/plain": [
       "sem     AUM  Inconclusive  SDM\n",
       "causal                        \n",
       "False   110            14   54\n",
       "True     18             1    3"
      ]
     },
     "execution_count": 159,
     "metadata": {},
     "output_type": "execute_result"
    }
   ],
   "source": [
    "conttable"
   ]
  },
  {
   "cell_type": "code",
   "execution_count": 160,
   "id": "ac207ec1-2dd6-4afd-a758-596626c6a1ed",
   "metadata": {},
   "outputs": [],
   "source": [
    "from scipy.stats import chi2_contingency"
   ]
  },
  {
   "cell_type": "code",
   "execution_count": 161,
   "id": "d858086f-ff57-4f78-a714-6f2b92741b9c",
   "metadata": {},
   "outputs": [
    {
     "data": {
      "text/html": [
       "<div>\n",
       "<style scoped>\n",
       "    .dataframe tbody tr th:only-of-type {\n",
       "        vertical-align: middle;\n",
       "    }\n",
       "\n",
       "    .dataframe tbody tr th {\n",
       "        vertical-align: top;\n",
       "    }\n",
       "\n",
       "    .dataframe thead th {\n",
       "        text-align: right;\n",
       "    }\n",
       "</style>\n",
       "<table border=\"1\" class=\"dataframe\">\n",
       "  <thead>\n",
       "    <tr style=\"text-align: right;\">\n",
       "      <th>sem</th>\n",
       "      <th>AUM</th>\n",
       "      <th>SDM</th>\n",
       "    </tr>\n",
       "    <tr>\n",
       "      <th>causal</th>\n",
       "      <th></th>\n",
       "      <th></th>\n",
       "    </tr>\n",
       "  </thead>\n",
       "  <tbody>\n",
       "    <tr>\n",
       "      <th>False</th>\n",
       "      <td>110</td>\n",
       "      <td>54</td>\n",
       "    </tr>\n",
       "    <tr>\n",
       "      <th>True</th>\n",
       "      <td>18</td>\n",
       "      <td>3</td>\n",
       "    </tr>\n",
       "  </tbody>\n",
       "</table>\n",
       "</div>"
      ],
      "text/plain": [
       "sem     AUM  SDM\n",
       "causal          \n",
       "False   110   54\n",
       "True     18    3"
      ]
     },
     "execution_count": 161,
     "metadata": {},
     "output_type": "execute_result"
    }
   ],
   "source": [
    "conttable = conttable[[\"AUM\", \"SDM\"]]\n",
    "conttable"
   ]
  },
  {
   "cell_type": "code",
   "execution_count": 162,
   "id": "19619c15-c8b4-4ec1-a4bc-7850287bfa37",
   "metadata": {},
   "outputs": [
    {
     "data": {
      "text/plain": [
       "(2.2231007941761165,\n",
       " 0.1359597521752824,\n",
       " 1,\n",
       " array([[113.47027027,  50.52972973],\n",
       "        [ 14.52972973,   6.47027027]]))"
      ]
     },
     "execution_count": 162,
     "metadata": {},
     "output_type": "execute_result"
    }
   ],
   "source": [
    "chi2_contingency(conttable)"
   ]
  },
  {
   "cell_type": "code",
   "execution_count": 163,
   "id": "10323eb8-08ed-4c8c-8766-89fd31a042f5",
   "metadata": {},
   "outputs": [
    {
     "data": {
      "text/html": [
       "<div>\n",
       "<style scoped>\n",
       "    .dataframe tbody tr th:only-of-type {\n",
       "        vertical-align: middle;\n",
       "    }\n",
       "\n",
       "    .dataframe tbody tr th {\n",
       "        vertical-align: top;\n",
       "    }\n",
       "\n",
       "    .dataframe thead th {\n",
       "        text-align: right;\n",
       "    }\n",
       "</style>\n",
       "<table border=\"1\" class=\"dataframe\">\n",
       "  <thead>\n",
       "    <tr style=\"text-align: right;\">\n",
       "      <th></th>\n",
       "      <th>label</th>\n",
       "      <th>category</th>\n",
       "      <th>topicsize</th>\n",
       "      <th>delta</th>\n",
       "      <th>r2</th>\n",
       "      <th>sem_verdict</th>\n",
       "      <th>cohortmse</th>\n",
       "      <th>periodmse</th>\n",
       "      <th>agemse</th>\n",
       "      <th>delta_oos</th>\n",
       "      <th>r2_oos</th>\n",
       "      <th>cohortr2_oos</th>\n",
       "      <th>periodr2_oos</th>\n",
       "      <th>keywords</th>\n",
       "      <th>top7books</th>\n",
       "      <th>next5books, biggestauth, datequartiles</th>\n",
       "      <th>comments</th>\n",
       "    </tr>\n",
       "  </thead>\n",
       "  <tbody>\n",
       "    <tr>\n",
       "      <th>5</th>\n",
       "      <td>ambitious European writers, in translation</td>\n",
       "      <td>genre</td>\n",
       "      <td>0.621</td>\n",
       "      <td>0.712378</td>\n",
       "      <td>0.018034</td>\n",
       "      <td>AUM</td>\n",
       "      <td>63.4240</td>\n",
       "      <td>25.0298</td>\n",
       "      <td>4.689250</td>\n",
       "      <td>0.625877</td>\n",
       "      <td>-0.004280</td>\n",
       "      <td>0.052841</td>\n",
       "      <td>0.029163</td>\n",
       "      <td>without little eyes same those day even everyt...</td>\n",
       "      <td>0.308 | D'Annunzio, Gabriele | The intruder | ...</td>\n",
       "      <td>0.226 | Rod, Edouard | The sacrifice of silenc...</td>\n",
       "      <td>This one is really very puzzling. French and I...</td>\n",
       "    </tr>\n",
       "    <tr>\n",
       "      <th>12</th>\n",
       "      <td>physical sensation, mid-20c</td>\n",
       "      <td>physical description</td>\n",
       "      <td>0.754</td>\n",
       "      <td>0.619664</td>\n",
       "      <td>0.110491</td>\n",
       "      <td>AUM</td>\n",
       "      <td>110.3678</td>\n",
       "      <td>68.5130</td>\n",
       "      <td>5.738000</td>\n",
       "      <td>0.526984</td>\n",
       "      <td>0.094749</td>\n",
       "      <td>0.121199</td>\n",
       "      <td>0.110291</td>\n",
       "      <td>face eyes voice against felt its dark small mo...</td>\n",
       "      <td>0.134 | Hayes, Joseph | The third day | 1964 0...</td>\n",
       "      <td>0.123 | Bates, H. E. (Herbert Ernest) | Dear l...</td>\n",
       "      <td>NaN</td>\n",
       "    </tr>\n",
       "    <tr>\n",
       "      <th>34</th>\n",
       "      <td>late 19c romantic historical fiction</td>\n",
       "      <td>genre</td>\n",
       "      <td>0.858</td>\n",
       "      <td>0.677866</td>\n",
       "      <td>0.124532</td>\n",
       "      <td>AUM</td>\n",
       "      <td>152.4576</td>\n",
       "      <td>57.6310</td>\n",
       "      <td>4.170750</td>\n",
       "      <td>0.747013</td>\n",
       "      <td>0.091452</td>\n",
       "      <td>0.189421</td>\n",
       "      <td>0.043553</td>\n",
       "      <td>am shall may must upon should man know take ca...</td>\n",
       "      <td>0.236 | Koenig, Ewald August | Wooing a widow....</td>\n",
       "      <td>0.176 | Ainsworth, William Harrison | Guy Fawk...</td>\n",
       "      <td>Here I'm guided mostly by author names.</td>\n",
       "    </tr>\n",
       "    <tr>\n",
       "      <th>37</th>\n",
       "      <td>art and artists</td>\n",
       "      <td>human institutions, practices, or relationships</td>\n",
       "      <td>0.159</td>\n",
       "      <td>0.789757</td>\n",
       "      <td>0.006104</td>\n",
       "      <td>AUM</td>\n",
       "      <td>15.9856</td>\n",
       "      <td>4.6900</td>\n",
       "      <td>2.767000</td>\n",
       "      <td>0.819931</td>\n",
       "      <td>-0.001768</td>\n",
       "      <td>0.017746</td>\n",
       "      <td>0.007321</td>\n",
       "      <td>art picture work artist painting studio pictur...</td>\n",
       "      <td>0.282 | Fearing, Kelly | Our expanding vision ...</td>\n",
       "      <td>0.099 | Frith, William Powell | My autobiograp...</td>\n",
       "      <td>NaN</td>\n",
       "    </tr>\n",
       "    <tr>\n",
       "      <th>43</th>\n",
       "      <td>late 20c SF</td>\n",
       "      <td>genre</td>\n",
       "      <td>0.375</td>\n",
       "      <td>0.643037</td>\n",
       "      <td>0.094232</td>\n",
       "      <td>AUM</td>\n",
       "      <td>172.7332</td>\n",
       "      <td>55.5734</td>\n",
       "      <td>4.245250</td>\n",
       "      <td>0.263590</td>\n",
       "      <td>0.041075</td>\n",
       "      <td>0.154036</td>\n",
       "      <td>0.286741</td>\n",
       "      <td>earth ship space its planet human years system...</td>\n",
       "      <td>0.399 | Herbert, Frank | Destination, void | 1...</td>\n",
       "      <td>0.287 | Shatner, William | Star Trek : the ret...</td>\n",
       "      <td>Huge number of rank 1 docs; high coherence; th...</td>\n",
       "    </tr>\n",
       "    <tr>\n",
       "      <th>62</th>\n",
       "      <td>late-19c family life, largely Trollope</td>\n",
       "      <td>author-dominated</td>\n",
       "      <td>0.463</td>\n",
       "      <td>0.704200</td>\n",
       "      <td>0.033970</td>\n",
       "      <td>AUM</td>\n",
       "      <td>28.9126</td>\n",
       "      <td>12.1154</td>\n",
       "      <td>0.178000</td>\n",
       "      <td>0.398005</td>\n",
       "      <td>0.023823</td>\n",
       "      <td>0.015439</td>\n",
       "      <td>0.020961</td>\n",
       "      <td>sister brother should such must house own upon...</td>\n",
       "      <td>0.345 | Trollope, Anthony | Kept in the dark |...</td>\n",
       "      <td>0.283 | Trollope, Anthony | An old man's love,...</td>\n",
       "      <td>The cut-off for author-dominated is roughly he...</td>\n",
       "    </tr>\n",
       "    <tr>\n",
       "      <th>64</th>\n",
       "      <td>informal diction</td>\n",
       "      <td>uncategorized dimension of style</td>\n",
       "      <td>1.537</td>\n",
       "      <td>0.284677</td>\n",
       "      <td>0.041899</td>\n",
       "      <td>AUM</td>\n",
       "      <td>42.3886</td>\n",
       "      <td>108.7322</td>\n",
       "      <td>5.970000</td>\n",
       "      <td>0.324216</td>\n",
       "      <td>0.027575</td>\n",
       "      <td>0.055585</td>\n",
       "      <td>0.115956</td>\n",
       "      <td>get re know think going just got want right ca...</td>\n",
       "      <td>0.298 | Simmons, Patricia Worth | Yesterday's ...</td>\n",
       "      <td>0.199 | Lardner, Ring | Treat 'em rough | 1918...</td>\n",
       "      <td>NaN</td>\n",
       "    </tr>\n",
       "    <tr>\n",
       "      <th>70</th>\n",
       "      <td>matter-of-fact journalistic language in advent...</td>\n",
       "      <td>uncategorized dimension of style</td>\n",
       "      <td>1.127</td>\n",
       "      <td>0.548753</td>\n",
       "      <td>0.146111</td>\n",
       "      <td>Inconclusive</td>\n",
       "      <td>73.6266</td>\n",
       "      <td>55.9138</td>\n",
       "      <td>0.107442</td>\n",
       "      <td>0.587443</td>\n",
       "      <td>0.121455</td>\n",
       "      <td>0.101339</td>\n",
       "      <td>0.067572</td>\n",
       "      <td>upon while being until soon found made few hav...</td>\n",
       "      <td>0.279 | Pinkerton, Allan | The burglar's fate ...</td>\n",
       "      <td>0.21 | Eric, Allan | A Yankee Crusoe; or, The ...</td>\n",
       "      <td>Note the long average word length. Pinkerton i...</td>\n",
       "    </tr>\n",
       "    <tr>\n",
       "      <th>75</th>\n",
       "      <td>passage of time</td>\n",
       "      <td>physical description</td>\n",
       "      <td>0.764</td>\n",
       "      <td>0.741445</td>\n",
       "      <td>0.022977</td>\n",
       "      <td>AUM</td>\n",
       "      <td>36.6232</td>\n",
       "      <td>15.7282</td>\n",
       "      <td>10.073500</td>\n",
       "      <td>0.827155</td>\n",
       "      <td>0.004459</td>\n",
       "      <td>0.038935</td>\n",
       "      <td>0.023575</td>\n",
       "      <td>day three years night five first four morning ...</td>\n",
       "      <td>0.398 | Watson, Nancy Dingman | What is one? |...</td>\n",
       "      <td>0.081 | Kawabata, Yasunari | Japan the beautif...</td>\n",
       "      <td>NaN</td>\n",
       "    </tr>\n",
       "    <tr>\n",
       "      <th>103</th>\n",
       "      <td>family</td>\n",
       "      <td>human institutions, practices, or relationships</td>\n",
       "      <td>0.598</td>\n",
       "      <td>0.720845</td>\n",
       "      <td>0.024291</td>\n",
       "      <td>AUM</td>\n",
       "      <td>79.2244</td>\n",
       "      <td>30.6994</td>\n",
       "      <td>5.563000</td>\n",
       "      <td>0.608994</td>\n",
       "      <td>0.009703</td>\n",
       "      <td>0.071304</td>\n",
       "      <td>0.046311</td>\n",
       "      <td>woman old man wife husband young years women c...</td>\n",
       "      <td>0.132 | Lear, Edward | The book of nonsense to...</td>\n",
       "      <td>0.085 | Bogoras, Waldemar | Tales of Yukaghir,...</td>\n",
       "      <td>NaN</td>\n",
       "    </tr>\n",
       "    <tr>\n",
       "      <th>112</th>\n",
       "      <td>proper names?</td>\n",
       "      <td>uncategorized dimension of style</td>\n",
       "      <td>0.033</td>\n",
       "      <td>0.862232</td>\n",
       "      <td>0.002597</td>\n",
       "      <td>AUM</td>\n",
       "      <td>10.1134</td>\n",
       "      <td>1.0940</td>\n",
       "      <td>3.579750</td>\n",
       "      <td>0.570240</td>\n",
       "      <td>-0.002507</td>\n",
       "      <td>0.003210</td>\n",
       "      <td>0.000783</td>\n",
       "      <td>smith brown eve pierce wells georgia crystal r...</td>\n",
       "      <td>0.126 | Irving, John | The cider house rules :...</td>\n",
       "      <td>0.045 | Bacon, Edgar Samuel | Hi frosh | 1967 ...</td>\n",
       "      <td>This seems quite odd.</td>\n",
       "    </tr>\n",
       "    <tr>\n",
       "      <th>122</th>\n",
       "      <td>aeronautics</td>\n",
       "      <td>technology</td>\n",
       "      <td>0.230</td>\n",
       "      <td>0.462933</td>\n",
       "      <td>0.023809</td>\n",
       "      <td>AUM</td>\n",
       "      <td>23.2548</td>\n",
       "      <td>28.5742</td>\n",
       "      <td>8.165250</td>\n",
       "      <td>0.551469</td>\n",
       "      <td>0.016286</td>\n",
       "      <td>0.020111</td>\n",
       "      <td>0.018226</td>\n",
       "      <td>air plane pilot flying flight engine feet mile...</td>\n",
       "      <td>0.379 | Puget, René | The long haul | 1964 0.3...</td>\n",
       "      <td>0.305 | Joseph, Mark | To kill the Potemkin : ...</td>\n",
       "      <td>A lot of these are especially 'flying in warti...</td>\n",
       "    </tr>\n",
       "    <tr>\n",
       "      <th>130</th>\n",
       "      <td>late-19c realism</td>\n",
       "      <td>genre</td>\n",
       "      <td>0.539</td>\n",
       "      <td>0.743903</td>\n",
       "      <td>0.134525</td>\n",
       "      <td>SDM</td>\n",
       "      <td>118.2688</td>\n",
       "      <td>39.5174</td>\n",
       "      <td>1.134500</td>\n",
       "      <td>0.354712</td>\n",
       "      <td>0.110600</td>\n",
       "      <td>0.056586</td>\n",
       "      <td>0.108870</td>\n",
       "      <td>mrs oh little know think dear should ca good s...</td>\n",
       "      <td>0.302 | Bjørnson, Bjørnstjerne | A gauntlet, b...</td>\n",
       "      <td>0.185 | Coleridge, Christabel R. (Chri | Ameth...</td>\n",
       "      <td>NaN</td>\n",
       "    </tr>\n",
       "    <tr>\n",
       "      <th>131</th>\n",
       "      <td>late-20c satire and cynical comedy</td>\n",
       "      <td>genre</td>\n",
       "      <td>0.759</td>\n",
       "      <td>0.291354</td>\n",
       "      <td>0.367049</td>\n",
       "      <td>AUM</td>\n",
       "      <td>97.4322</td>\n",
       "      <td>239.4046</td>\n",
       "      <td>40.837250</td>\n",
       "      <td>0.477703</td>\n",
       "      <td>0.348473</td>\n",
       "      <td>0.251120</td>\n",
       "      <td>0.243492</td>\n",
       "      <td>just re really how around maybe get new know t...</td>\n",
       "      <td>0.289 | Ellis, Bret Easton | Glamorama : a nov...</td>\n",
       "      <td>0.232 | Claxton, William | Laugh : portraits o...</td>\n",
       "      <td>Very clearly a genre; look at the high number ...</td>\n",
       "    </tr>\n",
       "    <tr>\n",
       "      <th>144</th>\n",
       "      <td>fishing and rivers</td>\n",
       "      <td>physical description</td>\n",
       "      <td>0.279</td>\n",
       "      <td>0.632062</td>\n",
       "      <td>0.008357</td>\n",
       "      <td>AUM</td>\n",
       "      <td>16.6248</td>\n",
       "      <td>10.7172</td>\n",
       "      <td>2.528000</td>\n",
       "      <td>0.473558</td>\n",
       "      <td>-0.002378</td>\n",
       "      <td>0.019673</td>\n",
       "      <td>0.029506</td>\n",
       "      <td>river water boat lake fish bank shore sandy ca...</td>\n",
       "      <td>0.291 | Samuels, Edward A. (Edward Aug | With ...</td>\n",
       "      <td>0.227 | Abbott, Henry | Fish stories | 1919 0....</td>\n",
       "      <td>NaN</td>\n",
       "    </tr>\n",
       "    <tr>\n",
       "      <th>147</th>\n",
       "      <td>farming</td>\n",
       "      <td>physical description</td>\n",
       "      <td>0.349</td>\n",
       "      <td>0.765507</td>\n",
       "      <td>0.030786</td>\n",
       "      <td>AUM</td>\n",
       "      <td>75.0900</td>\n",
       "      <td>23.2376</td>\n",
       "      <td>2.842750</td>\n",
       "      <td>0.693362</td>\n",
       "      <td>0.020182</td>\n",
       "      <td>0.036097</td>\n",
       "      <td>0.017074</td>\n",
       "      <td>farm house land barn field farmer old work fie...</td>\n",
       "      <td>0.254 | O'Kane, Walter Collins | Jim and Peggy...</td>\n",
       "      <td>0.147 | Lewis, Elizabeth Barzditis | Twin cous...</td>\n",
       "      <td>I considered calling this 'technology,' but en...</td>\n",
       "    </tr>\n",
       "    <tr>\n",
       "      <th>149</th>\n",
       "      <td>Russia</td>\n",
       "      <td>nationalities, regions, or ethnicities</td>\n",
       "      <td>0.259</td>\n",
       "      <td>0.789427</td>\n",
       "      <td>0.005123</td>\n",
       "      <td>AUM</td>\n",
       "      <td>18.5336</td>\n",
       "      <td>5.1698</td>\n",
       "      <td>0.647000</td>\n",
       "      <td>0.843727</td>\n",
       "      <td>-0.001210</td>\n",
       "      <td>0.018265</td>\n",
       "      <td>0.003302</td>\n",
       "      <td>russian even how russia began moscow such hims...</td>\n",
       "      <td>0.221 | Turgenev, Ivan Sergi︠e︡evích | / | 188...</td>\n",
       "      <td>0.204 | Turgenev, Ivan Sergi︠e︡evích | Memoirs...</td>\n",
       "      <td>NaN</td>\n",
       "    </tr>\n",
       "    <tr>\n",
       "      <th>164</th>\n",
       "      <td>automobiles</td>\n",
       "      <td>technology</td>\n",
       "      <td>0.310</td>\n",
       "      <td>0.119125</td>\n",
       "      <td>0.042852</td>\n",
       "      <td>SDM</td>\n",
       "      <td>8.6244</td>\n",
       "      <td>63.8074</td>\n",
       "      <td>2.364250</td>\n",
       "      <td>0.143564</td>\n",
       "      <td>0.033963</td>\n",
       "      <td>0.009845</td>\n",
       "      <td>0.062719</td>\n",
       "      <td>car road driver drive drove cars miles seat tr...</td>\n",
       "      <td>0.185 | Jackson, C. Paul (Caary Paul) | Stock ...</td>\n",
       "      <td>0.101 | Gault, William Campbell | Thunder road...</td>\n",
       "      <td>NaN</td>\n",
       "    </tr>\n",
       "    <tr>\n",
       "      <th>175</th>\n",
       "      <td>historical romance</td>\n",
       "      <td>genre</td>\n",
       "      <td>0.480</td>\n",
       "      <td>0.344511</td>\n",
       "      <td>0.035444</td>\n",
       "      <td>AUM</td>\n",
       "      <td>44.2408</td>\n",
       "      <td>85.3588</td>\n",
       "      <td>7.998000</td>\n",
       "      <td>0.499802</td>\n",
       "      <td>0.018958</td>\n",
       "      <td>0.046900</td>\n",
       "      <td>0.057073</td>\n",
       "      <td>upon master yet such tis good little should gr...</td>\n",
       "      <td>0.387 | Talbot, Ellen V | The courtship of swe...</td>\n",
       "      <td>0.253 | Scribner, Frank Kimball | The honor of...</td>\n",
       "      <td>NaN</td>\n",
       "    </tr>\n",
       "    <tr>\n",
       "      <th>180</th>\n",
       "      <td>trees and forests</td>\n",
       "      <td>physical description</td>\n",
       "      <td>0.474</td>\n",
       "      <td>0.913636</td>\n",
       "      <td>0.009265</td>\n",
       "      <td>SDM</td>\n",
       "      <td>17.3784</td>\n",
       "      <td>1.6586</td>\n",
       "      <td>11.995250</td>\n",
       "      <td>0.881170</td>\n",
       "      <td>-0.003754</td>\n",
       "      <td>0.024385</td>\n",
       "      <td>0.003454</td>\n",
       "      <td>trees road woods forest tree hill came wood pa...</td>\n",
       "      <td>0.202 | Nutting, Newton Wright | The history o...</td>\n",
       "      <td>0.121 | Monks, Minnie May. [from old c | At th...</td>\n",
       "      <td>NaN</td>\n",
       "    </tr>\n",
       "    <tr>\n",
       "      <th>190</th>\n",
       "      <td>hard to say</td>\n",
       "      <td>uncategorized dimension of style</td>\n",
       "      <td>0.894</td>\n",
       "      <td>0.552790</td>\n",
       "      <td>0.137759</td>\n",
       "      <td>AUM</td>\n",
       "      <td>40.5556</td>\n",
       "      <td>32.8828</td>\n",
       "      <td>1.794250</td>\n",
       "      <td>0.508115</td>\n",
       "      <td>0.127056</td>\n",
       "      <td>0.074748</td>\n",
       "      <td>0.071159</td>\n",
       "      <td>want know just wanted how going love because t...</td>\n",
       "      <td>0.358 | Kuenyefu, Nikki P | Korkor : hustles a...</td>\n",
       "      <td>0.223 | Bannon, Ann | Women in the shadows | 1...</td>\n",
       "      <td>NaN</td>\n",
       "    </tr>\n",
       "    <tr>\n",
       "      <th>197</th>\n",
       "      <td>historical fiction</td>\n",
       "      <td>genre</td>\n",
       "      <td>0.253</td>\n",
       "      <td>0.235233</td>\n",
       "      <td>0.016038</td>\n",
       "      <td>AUM</td>\n",
       "      <td>20.7974</td>\n",
       "      <td>70.4300</td>\n",
       "      <td>1.513250</td>\n",
       "      <td>0.219695</td>\n",
       "      <td>0.006793</td>\n",
       "      <td>0.016127</td>\n",
       "      <td>0.057167</td>\n",
       "      <td>king prince queen duke emperor majesty royal p...</td>\n",
       "      <td>0.2 | Constant | Recollections of the private ...</td>\n",
       "      <td>0.147 | Mundt, Klara (M?_ller) | Joseph II. an...</td>\n",
       "      <td>NaN</td>\n",
       "    </tr>\n",
       "  </tbody>\n",
       "</table>\n",
       "</div>"
      ],
      "text/plain": [
       "                                                 label  \\\n",
       "5           ambitious European writers, in translation   \n",
       "12                         physical sensation, mid-20c   \n",
       "34                late 19c romantic historical fiction   \n",
       "37                                     art and artists   \n",
       "43                                         late 20c SF   \n",
       "62              late-19c family life, largely Trollope   \n",
       "64                                    informal diction   \n",
       "70   matter-of-fact journalistic language in advent...   \n",
       "75                                     passage of time   \n",
       "103                                             family   \n",
       "112                                      proper names?   \n",
       "122                                        aeronautics   \n",
       "130                                   late-19c realism   \n",
       "131                 late-20c satire and cynical comedy   \n",
       "144                                 fishing and rivers   \n",
       "147                                            farming   \n",
       "149                                             Russia   \n",
       "164                                        automobiles   \n",
       "175                                 historical romance   \n",
       "180                                  trees and forests   \n",
       "190                                        hard to say   \n",
       "197                                 historical fiction   \n",
       "\n",
       "                                            category  topicsize     delta  \\\n",
       "5                                              genre      0.621  0.712378   \n",
       "12                              physical description      0.754  0.619664   \n",
       "34                                             genre      0.858  0.677866   \n",
       "37   human institutions, practices, or relationships      0.159  0.789757   \n",
       "43                                             genre      0.375  0.643037   \n",
       "62                                  author-dominated      0.463  0.704200   \n",
       "64                  uncategorized dimension of style      1.537  0.284677   \n",
       "70                  uncategorized dimension of style      1.127  0.548753   \n",
       "75                              physical description      0.764  0.741445   \n",
       "103  human institutions, practices, or relationships      0.598  0.720845   \n",
       "112                 uncategorized dimension of style      0.033  0.862232   \n",
       "122                                       technology      0.230  0.462933   \n",
       "130                                            genre      0.539  0.743903   \n",
       "131                                            genre      0.759  0.291354   \n",
       "144                             physical description      0.279  0.632062   \n",
       "147                             physical description      0.349  0.765507   \n",
       "149           nationalities, regions, or ethnicities      0.259  0.789427   \n",
       "164                                       technology      0.310  0.119125   \n",
       "175                                            genre      0.480  0.344511   \n",
       "180                             physical description      0.474  0.913636   \n",
       "190                 uncategorized dimension of style      0.894  0.552790   \n",
       "197                                            genre      0.253  0.235233   \n",
       "\n",
       "           r2   sem_verdict  cohortmse  periodmse     agemse  delta_oos  \\\n",
       "5    0.018034           AUM    63.4240    25.0298   4.689250   0.625877   \n",
       "12   0.110491           AUM   110.3678    68.5130   5.738000   0.526984   \n",
       "34   0.124532           AUM   152.4576    57.6310   4.170750   0.747013   \n",
       "37   0.006104           AUM    15.9856     4.6900   2.767000   0.819931   \n",
       "43   0.094232           AUM   172.7332    55.5734   4.245250   0.263590   \n",
       "62   0.033970           AUM    28.9126    12.1154   0.178000   0.398005   \n",
       "64   0.041899           AUM    42.3886   108.7322   5.970000   0.324216   \n",
       "70   0.146111  Inconclusive    73.6266    55.9138   0.107442   0.587443   \n",
       "75   0.022977           AUM    36.6232    15.7282  10.073500   0.827155   \n",
       "103  0.024291           AUM    79.2244    30.6994   5.563000   0.608994   \n",
       "112  0.002597           AUM    10.1134     1.0940   3.579750   0.570240   \n",
       "122  0.023809           AUM    23.2548    28.5742   8.165250   0.551469   \n",
       "130  0.134525           SDM   118.2688    39.5174   1.134500   0.354712   \n",
       "131  0.367049           AUM    97.4322   239.4046  40.837250   0.477703   \n",
       "144  0.008357           AUM    16.6248    10.7172   2.528000   0.473558   \n",
       "147  0.030786           AUM    75.0900    23.2376   2.842750   0.693362   \n",
       "149  0.005123           AUM    18.5336     5.1698   0.647000   0.843727   \n",
       "164  0.042852           SDM     8.6244    63.8074   2.364250   0.143564   \n",
       "175  0.035444           AUM    44.2408    85.3588   7.998000   0.499802   \n",
       "180  0.009265           SDM    17.3784     1.6586  11.995250   0.881170   \n",
       "190  0.137759           AUM    40.5556    32.8828   1.794250   0.508115   \n",
       "197  0.016038           AUM    20.7974    70.4300   1.513250   0.219695   \n",
       "\n",
       "       r2_oos  cohortr2_oos  periodr2_oos  \\\n",
       "5   -0.004280      0.052841      0.029163   \n",
       "12   0.094749      0.121199      0.110291   \n",
       "34   0.091452      0.189421      0.043553   \n",
       "37  -0.001768      0.017746      0.007321   \n",
       "43   0.041075      0.154036      0.286741   \n",
       "62   0.023823      0.015439      0.020961   \n",
       "64   0.027575      0.055585      0.115956   \n",
       "70   0.121455      0.101339      0.067572   \n",
       "75   0.004459      0.038935      0.023575   \n",
       "103  0.009703      0.071304      0.046311   \n",
       "112 -0.002507      0.003210      0.000783   \n",
       "122  0.016286      0.020111      0.018226   \n",
       "130  0.110600      0.056586      0.108870   \n",
       "131  0.348473      0.251120      0.243492   \n",
       "144 -0.002378      0.019673      0.029506   \n",
       "147  0.020182      0.036097      0.017074   \n",
       "149 -0.001210      0.018265      0.003302   \n",
       "164  0.033963      0.009845      0.062719   \n",
       "175  0.018958      0.046900      0.057073   \n",
       "180 -0.003754      0.024385      0.003454   \n",
       "190  0.127056      0.074748      0.071159   \n",
       "197  0.006793      0.016127      0.057167   \n",
       "\n",
       "                                              keywords  \\\n",
       "5    without little eyes same those day even everyt...   \n",
       "12   face eyes voice against felt its dark small mo...   \n",
       "34   am shall may must upon should man know take ca...   \n",
       "37   art picture work artist painting studio pictur...   \n",
       "43   earth ship space its planet human years system...   \n",
       "62   sister brother should such must house own upon...   \n",
       "64   get re know think going just got want right ca...   \n",
       "70   upon while being until soon found made few hav...   \n",
       "75   day three years night five first four morning ...   \n",
       "103  woman old man wife husband young years women c...   \n",
       "112  smith brown eve pierce wells georgia crystal r...   \n",
       "122  air plane pilot flying flight engine feet mile...   \n",
       "130  mrs oh little know think dear should ca good s...   \n",
       "131  just re really how around maybe get new know t...   \n",
       "144  river water boat lake fish bank shore sandy ca...   \n",
       "147  farm house land barn field farmer old work fie...   \n",
       "149  russian even how russia began moscow such hims...   \n",
       "164  car road driver drive drove cars miles seat tr...   \n",
       "175  upon master yet such tis good little should gr...   \n",
       "180  trees road woods forest tree hill came wood pa...   \n",
       "190  want know just wanted how going love because t...   \n",
       "197  king prince queen duke emperor majesty royal p...   \n",
       "\n",
       "                                             top7books  \\\n",
       "5    0.308 | D'Annunzio, Gabriele | The intruder | ...   \n",
       "12   0.134 | Hayes, Joseph | The third day | 1964 0...   \n",
       "34   0.236 | Koenig, Ewald August | Wooing a widow....   \n",
       "37   0.282 | Fearing, Kelly | Our expanding vision ...   \n",
       "43   0.399 | Herbert, Frank | Destination, void | 1...   \n",
       "62   0.345 | Trollope, Anthony | Kept in the dark |...   \n",
       "64   0.298 | Simmons, Patricia Worth | Yesterday's ...   \n",
       "70   0.279 | Pinkerton, Allan | The burglar's fate ...   \n",
       "75   0.398 | Watson, Nancy Dingman | What is one? |...   \n",
       "103  0.132 | Lear, Edward | The book of nonsense to...   \n",
       "112  0.126 | Irving, John | The cider house rules :...   \n",
       "122  0.379 | Puget, René | The long haul | 1964 0.3...   \n",
       "130  0.302 | Bjørnson, Bjørnstjerne | A gauntlet, b...   \n",
       "131  0.289 | Ellis, Bret Easton | Glamorama : a nov...   \n",
       "144  0.291 | Samuels, Edward A. (Edward Aug | With ...   \n",
       "147  0.254 | O'Kane, Walter Collins | Jim and Peggy...   \n",
       "149  0.221 | Turgenev, Ivan Sergi︠e︡evích | / | 188...   \n",
       "164  0.185 | Jackson, C. Paul (Caary Paul) | Stock ...   \n",
       "175  0.387 | Talbot, Ellen V | The courtship of swe...   \n",
       "180  0.202 | Nutting, Newton Wright | The history o...   \n",
       "190  0.358 | Kuenyefu, Nikki P | Korkor : hustles a...   \n",
       "197  0.2 | Constant | Recollections of the private ...   \n",
       "\n",
       "                next5books, biggestauth, datequartiles  \\\n",
       "5    0.226 | Rod, Edouard | The sacrifice of silenc...   \n",
       "12   0.123 | Bates, H. E. (Herbert Ernest) | Dear l...   \n",
       "34   0.176 | Ainsworth, William Harrison | Guy Fawk...   \n",
       "37   0.099 | Frith, William Powell | My autobiograp...   \n",
       "43   0.287 | Shatner, William | Star Trek : the ret...   \n",
       "62   0.283 | Trollope, Anthony | An old man's love,...   \n",
       "64   0.199 | Lardner, Ring | Treat 'em rough | 1918...   \n",
       "70   0.21 | Eric, Allan | A Yankee Crusoe; or, The ...   \n",
       "75   0.081 | Kawabata, Yasunari | Japan the beautif...   \n",
       "103  0.085 | Bogoras, Waldemar | Tales of Yukaghir,...   \n",
       "112  0.045 | Bacon, Edgar Samuel | Hi frosh | 1967 ...   \n",
       "122  0.305 | Joseph, Mark | To kill the Potemkin : ...   \n",
       "130  0.185 | Coleridge, Christabel R. (Chri | Ameth...   \n",
       "131  0.232 | Claxton, William | Laugh : portraits o...   \n",
       "144  0.227 | Abbott, Henry | Fish stories | 1919 0....   \n",
       "147  0.147 | Lewis, Elizabeth Barzditis | Twin cous...   \n",
       "149  0.204 | Turgenev, Ivan Sergi︠e︡evích | Memoirs...   \n",
       "164  0.101 | Gault, William Campbell | Thunder road...   \n",
       "175  0.253 | Scribner, Frank Kimball | The honor of...   \n",
       "180  0.121 | Monks, Minnie May. [from old c | At th...   \n",
       "190  0.223 | Bannon, Ann | Women in the shadows | 1...   \n",
       "197  0.147 | Mundt, Klara (M?_ller) | Joseph II. an...   \n",
       "\n",
       "                                              comments  \n",
       "5    This one is really very puzzling. French and I...  \n",
       "12                                                 NaN  \n",
       "34             Here I'm guided mostly by author names.  \n",
       "37                                                 NaN  \n",
       "43   Huge number of rank 1 docs; high coherence; th...  \n",
       "62   The cut-off for author-dominated is roughly he...  \n",
       "64                                                 NaN  \n",
       "70   Note the long average word length. Pinkerton i...  \n",
       "75                                                 NaN  \n",
       "103                                                NaN  \n",
       "112                              This seems quite odd.  \n",
       "122  A lot of these are especially 'flying in warti...  \n",
       "130                                                NaN  \n",
       "131  Very clearly a genre; look at the high number ...  \n",
       "144                                                NaN  \n",
       "147  I considered calling this 'technology,' but en...  \n",
       "149                                                NaN  \n",
       "164                                                NaN  \n",
       "175                                                NaN  \n",
       "180                                                NaN  \n",
       "190                                                NaN  \n",
       "197                                                NaN  "
      ]
     },
     "execution_count": 163,
     "metadata": {},
     "output_type": "execute_result"
    }
   ],
   "source": [
    "topicsum.loc[causal, : ]"
   ]
  },
  {
   "cell_type": "code",
   "execution_count": null,
   "id": "12dfa331-4904-4b3a-8f5f-d8d9c7b46e87",
   "metadata": {},
   "outputs": [],
   "source": []
  }
 ],
 "metadata": {
  "kernelspec": {
   "display_name": "Python 3",
   "language": "python",
   "name": "python3"
  },
  "language_info": {
   "codemirror_mode": {
    "name": "ipython",
    "version": 3
   },
   "file_extension": ".py",
   "mimetype": "text/x-python",
   "name": "python",
   "nbconvert_exporter": "python",
   "pygments_lexer": "ipython3",
   "version": "3.7.4"
  }
 },
 "nbformat": 4,
 "nbformat_minor": 5
}
